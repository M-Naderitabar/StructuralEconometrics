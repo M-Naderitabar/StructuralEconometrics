{
 "cells": [
  {
   "cell_type": "code",
   "execution_count": 26,
   "metadata": {},
   "outputs": [],
   "source": [
    "import numpy as np\n",
    "import matplotlib.pyplot as plt\n",
    "import pandas as pd\n",
    "from scipy.optimize import minimize\n",
    "from scipy.stats import norm"
   ]
  },
  {
   "cell_type": "code",
   "execution_count": 2,
   "metadata": {},
   "outputs": [],
   "source": [
    "address = 'C:\\\\Users\\\\moham\\\\My Drive\\\\Projects\\\\Structural Econometrics Projects\\\\Topics in Advanced Econometrics\\\\2- Logit'"
   ]
  },
  {
   "cell_type": "code",
   "execution_count": 3,
   "metadata": {},
   "outputs": [],
   "source": [
    "commute_data = pd.read_csv(address + '\\\\commute_multinomial.csv')"
   ]
  },
  {
   "cell_type": "markdown",
   "metadata": {},
   "source": [
    "# Problem 1: Maximum Likelihood Estimation\n",
    "\n",
    "Again, the problem is for commute. Each agent has four alternatives to choose from. The utility is as follows:\n",
    "\n",
    "$$\n",
    "V_{nj} = \\beta C_{nj} + \\gamma T_{nj}\n",
    "$$\n",
    "Therefore, given a multinomial logit model, the log-likelihood function is as follows:\n",
    "$$\n",
    "\\ln L(\\theta \\mid y, \\boldsymbol{X})=\\sum_{n=1}^N \\sum_{i=1}^J y_{n i} \\ln \\left[\\frac{e^{\\beta C_{n,i} + \\gamma T_{n,i}}}{\\sum_j e^{\\beta C_{n,j} + \\gamma T_{n,j}}}\\right]\n",
    "$$\n",
    "\n",
    "So, we will define a function that, given the parameters and data as inputs, and solve for the loglikelihood function. But, first, we need to prepare the data."
   ]
  },
  {
   "cell_type": "code",
   "execution_count": 4,
   "metadata": {},
   "outputs": [],
   "source": [
    "# List of modes\n",
    "modes = ['bike', 'bus', 'car', 'walk']\n",
    "\n",
    "# Reshape the DataFrame\n",
    "rows = []\n",
    "for index, row in commute_data.iterrows():\n",
    "    for mode in modes:\n",
    "        rows.append({\n",
    "            'id': row['id'],\n",
    "            'mode': mode,\n",
    "            'time': row[f'time.{mode}'],\n",
    "            'cost': row[f'cost.{mode}'],\n",
    "            'choice': 1 if row['mode'] == mode else 0\n",
    "        })\n",
    "\n",
    "commute_long = pd.DataFrame(rows)"
   ]
  },
  {
   "cell_type": "code",
   "execution_count": 5,
   "metadata": {},
   "outputs": [
    {
     "data": {
      "text/html": [
       "<div>\n",
       "<style scoped>\n",
       "    .dataframe tbody tr th:only-of-type {\n",
       "        vertical-align: middle;\n",
       "    }\n",
       "\n",
       "    .dataframe tbody tr th {\n",
       "        vertical-align: top;\n",
       "    }\n",
       "\n",
       "    .dataframe thead th {\n",
       "        text-align: right;\n",
       "    }\n",
       "</style>\n",
       "<table border=\"1\" class=\"dataframe\">\n",
       "  <thead>\n",
       "    <tr style=\"text-align: right;\">\n",
       "      <th></th>\n",
       "      <th>id</th>\n",
       "      <th>mode</th>\n",
       "      <th>time</th>\n",
       "      <th>cost</th>\n",
       "      <th>choice</th>\n",
       "    </tr>\n",
       "  </thead>\n",
       "  <tbody>\n",
       "    <tr>\n",
       "      <th>0</th>\n",
       "      <td>1</td>\n",
       "      <td>bike</td>\n",
       "      <td>20</td>\n",
       "      <td>0.00</td>\n",
       "      <td>0</td>\n",
       "    </tr>\n",
       "    <tr>\n",
       "      <th>1</th>\n",
       "      <td>1</td>\n",
       "      <td>bus</td>\n",
       "      <td>20</td>\n",
       "      <td>0.00</td>\n",
       "      <td>1</td>\n",
       "    </tr>\n",
       "    <tr>\n",
       "      <th>2</th>\n",
       "      <td>1</td>\n",
       "      <td>car</td>\n",
       "      <td>16</td>\n",
       "      <td>0.82</td>\n",
       "      <td>0</td>\n",
       "    </tr>\n",
       "    <tr>\n",
       "      <th>3</th>\n",
       "      <td>1</td>\n",
       "      <td>walk</td>\n",
       "      <td>55</td>\n",
       "      <td>0.00</td>\n",
       "      <td>0</td>\n",
       "    </tr>\n",
       "  </tbody>\n",
       "</table>\n",
       "</div>"
      ],
      "text/plain": [
       "   id  mode  time  cost  choice\n",
       "0   1  bike    20  0.00       0\n",
       "1   1   bus    20  0.00       1\n",
       "2   1   car    16  0.82       0\n",
       "3   1  walk    55  0.00       0"
      ]
     },
     "execution_count": 5,
     "metadata": {},
     "output_type": "execute_result"
    }
   ],
   "source": [
    "commute_long.head(4)"
   ]
  },
  {
   "cell_type": "code",
   "execution_count": 6,
   "metadata": {},
   "outputs": [],
   "source": [
    "def loglikelihood(params, data):\n",
    "    # Create a copy of the input DataFrame to avoid modifying the original one\n",
    "    df = data.copy()\n",
    "    # Independent variables as a NumPy array\n",
    "    X = df[['time', 'cost']]\n",
    "    # Calculating the exponential utility\n",
    "    df['exp_Util'] = np.exp(np.dot(X, params))\n",
    "    # Summing exp_Util for each id\n",
    "    df['sum_exp_Util'] = df.groupby('id')['exp_Util'].transform('sum')\n",
    "    # Probability calculation\n",
    "    df['prob'] = df['exp_Util'] / df['sum_exp_Util']\n",
    "    # Calculating the log-likelihood\n",
    "    loglikelihood_value = np.sum(df['choice'] * np.log(df['prob']))\n",
    "    # Return negative log-likelihood (for minimization)\n",
    "    return -loglikelihood_value"
   ]
  },
  {
   "cell_type": "markdown",
   "metadata": {},
   "source": [
    "Now, we will find the optimal parameters."
   ]
  },
  {
   "cell_type": "code",
   "execution_count": 24,
   "metadata": {},
   "outputs": [
    {
     "name": "stdout",
     "output_type": "stream",
     "text": [
      "Optimization terminated successfully.\n",
      "         Current function value: 1219.844944\n",
      "         Iterations: 11\n",
      "         Function evaluations: 51\n",
      "         Gradient evaluations: 17\n"
     ]
    }
   ],
   "source": [
    "initial_params = np.zeros(2)\n",
    "result = minimize(loglikelihood, \n",
    "                  initial_params, \n",
    "                  args=(commute_long[['id', 'choice', 'time', 'cost']],), \n",
    "                  method='BFGS', \n",
    "                  options={'disp': True})\n",
    "parameters = result.x"
   ]
  },
  {
   "cell_type": "markdown",
   "metadata": {},
   "source": [
    "Now, from MLE, we remember that the asymptotic distribution is as follows:\n",
    "\n",
    "$$\n",
    "\\widehat{\\boldsymbol{\\theta}} \\stackrel{a}{\\sim} \\mathcal{N}\\left(\\boldsymbol{\\theta}_0, I\\left(\\boldsymbol{\\theta}_0\\right)^{-1}\\right) \\,\\, ,\\,\\, I\\left(\\boldsymbol{\\theta}_0\\right)=-E_0\\left[\\frac{\\partial^2 \\ln L\\left(\\boldsymbol{\\theta}_0\\right)}{\\partial \\boldsymbol{\\theta}_0 \\partial \\boldsymbol{\\theta}_0^{\\prime}}\\right]\n",
    "$$\n",
    "Then:\n",
    "$$\n",
    "\\widehat{\\operatorname{Var}}(\\widehat{\\boldsymbol{\\theta}})=\\left\\{-\\left.\\frac{\\partial^2 \\ln L(\\boldsymbol{\\theta})}{\\partial \\boldsymbol{\\theta} \\partial \\boldsymbol{\\theta}^{\\prime}}\\right|_{\\boldsymbol{\\theta}=\\widehat{\\boldsymbol{\\theta}}}\\right\\}^{-1}\n",
    "$$"
   ]
  },
  {
   "cell_type": "code",
   "execution_count": 34,
   "metadata": {},
   "outputs": [
    {
     "name": "stdout",
     "output_type": "stream",
     "text": [
      " Coefficient  Standard Error  Z-statistic  P-value\n",
      "      -0.126           0.009      -14.191      0.0\n",
      "      -1.002           0.171       -5.854      0.0\n"
     ]
    }
   ],
   "source": [
    "std = np.sqrt(result.hess_inv.diagonal())\n",
    "z_stat = parameters / std\n",
    "p_values = 2 * (1 - norm.cdf(abs(z_stat)))\n",
    "summary_table = pd.DataFrame({\n",
    "    'Coefficient': parameters,\n",
    "    'Standard Error': std,\n",
    "    'Z-statistic': z_stat,\n",
    "    'P-value': p_values\n",
    "})\n",
    "print(summary_table.round(3).to_string(index=False))"
   ]
  }
 ],
 "metadata": {
  "kernelspec": {
   "display_name": "Python 3",
   "language": "python",
   "name": "python3"
  },
  "language_info": {
   "codemirror_mode": {
    "name": "ipython",
    "version": 3
   },
   "file_extension": ".py",
   "mimetype": "text/x-python",
   "name": "python",
   "nbconvert_exporter": "python",
   "pygments_lexer": "ipython3",
   "version": "3.11.9"
  }
 },
 "nbformat": 4,
 "nbformat_minor": 2
}
