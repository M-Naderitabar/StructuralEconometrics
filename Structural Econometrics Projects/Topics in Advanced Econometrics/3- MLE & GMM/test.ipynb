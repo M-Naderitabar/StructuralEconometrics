{
 "cells": [
  {
   "cell_type": "code",
   "execution_count": 7,
   "metadata": {},
   "outputs": [
    {
     "name": "stdout",
     "output_type": "stream",
     "text": [
      "Sum of Jacobians:\n",
      " [[-157.06916187    2.48084928   42.43273387   -9.26815087]\n",
      " [   2.48084928 -148.38546532   -5.59409383   12.64423919]\n",
      " [  42.43273387   -5.59409383  -97.09308495  -20.79645583]\n",
      " [  -9.26815087   12.64423919  -20.79645583 -131.70005231]]\n"
     ]
    }
   ],
   "source": [
    "import numpy as np\n",
    "import pandas as pd\n",
    "from scipy.special import expit\n",
    "\n",
    "# Sample data setup\n",
    "np.random.seed(0)\n",
    "data = pd.DataFrame({\n",
    "    'cost.car': np.random.randn(1000),\n",
    "    'time.car': np.random.randn(1000),\n",
    "    'time.bus': np.random.randn(1000),\n",
    "    'choice': np.random.randint(0, 2, size=1000)\n",
    "})\n",
    "\n",
    "# Initial parameters (4 parameters including the intercept)\n",
    "params = np.random.randn(4)\n",
    "\n",
    "def mm_fn(params, data):\n",
    "    X = data[['cost.car', 'time.car', 'time.bus']]\n",
    "    X = np.hstack([np.ones((X.shape[0], 1)), X])  # Add intercept term (constant)\n",
    "    y = data['choice'].values\n",
    "    prob = expit(np.dot(X, params))  # Sigmoid function to get probabilities\n",
    "    error = y - prob\n",
    "    return error[:, np.newaxis] * X\n",
    "\n",
    "def compute_jacobian_and_sum(params, data):\n",
    "    X = data[['cost.car', 'time.car', 'time.bus']]\n",
    "    X = np.hstack([np.ones((X.shape[0], 1)), X])  # Add intercept term (constant)\n",
    "    y = data['choice'].values\n",
    "    prob = expit(np.dot(X, params))  # Sigmoid function to get probabilities\n",
    "    \n",
    "    # Initialize the sum of Jacobians as a zero 4x4 matrix\n",
    "    sum_jacobian = np.zeros((4, 4))\n",
    "    \n",
    "    # Loop through each data point\n",
    "    for i in range(len(y)):\n",
    "        xi = X[i]  # 1x4 vector\n",
    "        pi = prob[i]  # scalar\n",
    "        error_i = y[i] - pi  # scalar\n",
    "        \n",
    "        # Gradient of the probability with respect to params: pi * (1 - pi) * xi\n",
    "        gradient = pi * (1 - pi) * np.outer(xi, xi)  # 4x4 matrix\n",
    "        \n",
    "        # Contribution to the Jacobian from the i-th data point\n",
    "        jacobian_i = -gradient  # 4x4 matrix\n",
    "        \n",
    "        # Sum the Jacobian\n",
    "        sum_jacobian += jacobian_i\n",
    "    \n",
    "    return sum_jacobian\n",
    "\n",
    "# Calculate the sum of Jacobians\n",
    "sum_jacobian = compute_jacobian_and_sum(params, data)\n",
    "\n",
    "# Output the final summed Jacobian matrix\n",
    "print(\"Sum of Jacobians:\\n\", sum_jacobian)"
   ]
  }
 ],
 "metadata": {
  "kernelspec": {
   "display_name": "Python 3",
   "language": "python",
   "name": "python3"
  },
  "language_info": {
   "codemirror_mode": {
    "name": "ipython",
    "version": 3
   },
   "file_extension": ".py",
   "mimetype": "text/x-python",
   "name": "python",
   "nbconvert_exporter": "python",
   "pygments_lexer": "ipython3",
   "version": "3.11.9"
  }
 },
 "nbformat": 4,
 "nbformat_minor": 2
}
