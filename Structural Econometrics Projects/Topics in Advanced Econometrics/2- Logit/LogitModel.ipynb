{
 "cells": [
  {
   "cell_type": "code",
   "execution_count": 4,
   "metadata": {},
   "outputs": [],
   "source": [
    "import numpy as np\n",
    "import pandas as pd\n",
    "import matplotlib.pyplot as plt"
   ]
  },
  {
   "cell_type": "markdown",
   "metadata": {},
   "source": [
    "# Problem 1: Binary Logit Model"
   ]
  },
  {
   "cell_type": "code",
   "execution_count": 5,
   "metadata": {},
   "outputs": [],
   "source": [
    "df = pd.read_csv('C:\\\\Users\\\\moham\\\\My Drive\\\\Projects\\\\Structural Econometrics Projects\\\\Topics in Advanced Econometrics\\\\2- Logit\\\\commute_binary.csv')"
   ]
  },
  {
   "cell_type": "code",
   "execution_count": 15,
   "metadata": {},
   "outputs": [],
   "source": [
    "df['output'] = (df['mode'] == 'car').astype(int)\n",
    "df['Married'] = (df['marital_status'] == 'married').astype(int)"
   ]
  },
  {
   "cell_type": "code",
   "execution_count": 16,
   "metadata": {},
   "outputs": [
    {
     "data": {
      "text/plain": [
       "Index(['id', 'mode', 'time.car', 'cost.car', 'time.bus', 'cost.bus',\n",
       "       'price_gas', 'snowfall', 'construction', 'bus_detour', 'age', 'income',\n",
       "       'marital_status', 'output', 'Married'],\n",
       "      dtype='object')"
      ]
     },
     "execution_count": 16,
     "metadata": {},
     "output_type": "execute_result"
    }
   ],
   "source": [
    "df.columns"
   ]
  },
  {
   "cell_type": "code",
   "execution_count": 93,
   "metadata": {},
   "outputs": [
    {
     "name": "stdout",
     "output_type": "stream",
     "text": [
      "Optimization terminated successfully.\n",
      "         Current function value: 0.600470\n",
      "         Iterations 6\n",
      "                           Logit Regression Results                           \n",
      "==============================================================================\n",
      "Dep. Variable:                 output   No. Observations:                 1000\n",
      "Model:                          Logit   Df Residuals:                      996\n",
      "Method:                           MLE   Df Model:                            3\n",
      "Date:                Sat, 27 Jul 2024   Pseudo R-squ.:                  0.1205\n",
      "Time:                        14:12:48   Log-Likelihood:                -600.47\n",
      "converged:                       True   LL-Null:                       -682.74\n",
      "Covariance Type:            nonrobust   LLR p-value:                 1.914e-35\n",
      "==============================================================================\n",
      "                 coef    std err          z      P>|z|      [0.025      0.975]\n",
      "------------------------------------------------------------------------------\n",
      "const          2.2333      0.347      6.443      0.000       1.554       2.913\n",
      "time.car      -0.3322      0.035     -9.400      0.000      -0.401      -0.263\n",
      "cost.car      -2.0772      0.732     -2.836      0.005      -3.513      -0.642\n",
      "time.bus       0.1326      0.032      4.092      0.000       0.069       0.196\n",
      "==============================================================================\n"
     ]
    }
   ],
   "source": [
    "import statsmodels.api as sm\n",
    "\n",
    "# Define the dependent variable\n",
    "y = df['output']\n",
    "\n",
    "# Define the independent variables\n",
    "X = df[['time.car', 'cost.car', 'time.bus']]\n",
    "\n",
    "# Add a constant term to the independent variables\n",
    "X = sm.add_constant(X)\n",
    "\n",
    "# Fit the binary logit model\n",
    "logit_model = sm.Logit(y, X)\n",
    "result = logit_model.fit()\n",
    "# Print the summary of the model\n",
    "print(result.summary())"
   ]
  },
  {
   "cell_type": "code",
   "execution_count": 94,
   "metadata": {},
   "outputs": [
    {
     "data": {
      "text/plain": [
       "66.8"
      ]
     },
     "execution_count": 94,
     "metadata": {},
     "output_type": "execute_result"
    }
   ],
   "source": [
    "predicted_values = (result.predict(X)).apply(lambda x: 0 if x < 0.5 else 1)\n",
    "# Compare predicted values with actual values\n",
    "accuracy = (predicted_values == df['output']).mean()\n",
    "\n",
    "# Calculate success rate\n",
    "success_rate = accuracy * 100\n",
    "\n",
    "success_rate"
   ]
  },
  {
   "cell_type": "markdown",
   "metadata": {},
   "source": [
    "## Marginal Effects\n",
    "By ME, we mean the effect of a change in each attribute on the probability of choosing to drive car.\n",
    "\n",
    "From the theory, we know that the marginal effects of each attribute on the probability of choosing to derive is:\n",
    "$$\n",
    "\\beta_z P_{n i}\\left(1-P_{n i}\\right)\n",
    "$$"
   ]
  },
  {
   "cell_type": "code",
   "execution_count": 95,
   "metadata": {},
   "outputs": [],
   "source": [
    "predictions = result.predict(X)\n",
    "\n",
    "coefficients = result.params\n",
    "timecar_coefficient = coefficients['time.car']\n",
    "timebus_coefficient = coefficients['time.bus']\n",
    "costcar_coefficient = coefficients['cost.car']\n",
    "\n",
    "df['ME_timecar'] = timecar_coefficient * predictions * (1 - predictions)\n",
    "df['ME_timebus'] = timebus_coefficient * predictions * (1 - predictions)\n",
    "df['ME_costcar'] = costcar_coefficient * predictions * (1 - predictions)"
   ]
  },
  {
   "cell_type": "code",
   "execution_count": 96,
   "metadata": {},
   "outputs": [
    {
     "data": {
      "text/html": [
       "<div>\n",
       "<style scoped>\n",
       "    .dataframe tbody tr th:only-of-type {\n",
       "        vertical-align: middle;\n",
       "    }\n",
       "\n",
       "    .dataframe tbody tr th {\n",
       "        vertical-align: top;\n",
       "    }\n",
       "\n",
       "    .dataframe thead th {\n",
       "        text-align: right;\n",
       "    }\n",
       "</style>\n",
       "<table border=\"1\" class=\"dataframe\">\n",
       "  <thead>\n",
       "    <tr style=\"text-align: right;\">\n",
       "      <th></th>\n",
       "      <th>ME_timecar</th>\n",
       "      <th>ME_timebus</th>\n",
       "      <th>ME_costcar</th>\n",
       "    </tr>\n",
       "  </thead>\n",
       "  <tbody>\n",
       "    <tr>\n",
       "      <th>min</th>\n",
       "      <td>-0.083054</td>\n",
       "      <td>0.000963</td>\n",
       "      <td>-0.519289</td>\n",
       "    </tr>\n",
       "    <tr>\n",
       "      <th>25%</th>\n",
       "      <td>-0.081579</td>\n",
       "      <td>0.024823</td>\n",
       "      <td>-0.510069</td>\n",
       "    </tr>\n",
       "    <tr>\n",
       "      <th>50%</th>\n",
       "      <td>-0.076326</td>\n",
       "      <td>0.030459</td>\n",
       "      <td>-0.477225</td>\n",
       "    </tr>\n",
       "    <tr>\n",
       "      <th>75%</th>\n",
       "      <td>-0.062203</td>\n",
       "      <td>0.032555</td>\n",
       "      <td>-0.388920</td>\n",
       "    </tr>\n",
       "    <tr>\n",
       "      <th>max</th>\n",
       "      <td>-0.002413</td>\n",
       "      <td>0.033144</td>\n",
       "      <td>-0.015087</td>\n",
       "    </tr>\n",
       "    <tr>\n",
       "      <th>mean</th>\n",
       "      <td>-0.069001</td>\n",
       "      <td>0.027536</td>\n",
       "      <td>-0.431426</td>\n",
       "    </tr>\n",
       "  </tbody>\n",
       "</table>\n",
       "</div>"
      ],
      "text/plain": [
       "      ME_timecar  ME_timebus  ME_costcar\n",
       "min    -0.083054    0.000963   -0.519289\n",
       "25%    -0.081579    0.024823   -0.510069\n",
       "50%    -0.076326    0.030459   -0.477225\n",
       "75%    -0.062203    0.032555   -0.388920\n",
       "max    -0.002413    0.033144   -0.015087\n",
       "mean   -0.069001    0.027536   -0.431426"
      ]
     },
     "execution_count": 96,
     "metadata": {},
     "output_type": "execute_result"
    }
   ],
   "source": [
    "new_columns = ['ME_timecar', 'ME_timebus', 'ME_costcar']\n",
    "summary = df[new_columns].describe().loc[['min', '25%', '50%', '75%', 'max', 'mean']]\n",
    "summary"
   ]
  },
  {
   "cell_type": "markdown",
   "metadata": {},
   "source": [
    "These Marginal effects on the mean are very similar to the marginal effects in a LPM. Though, these MEs have heterogeneity and change around the mean. Therefore, this is a better model to work with."
   ]
  },
  {
   "cell_type": "markdown",
   "metadata": {},
   "source": [
    "## Finding the Dollor value of each attribute\n",
    "\n",
    "As costcar attribute is in money terms. We have the MU of money. Therefore, just divide by this coeff."
   ]
  },
  {
   "cell_type": "code",
   "execution_count": 98,
   "metadata": {},
   "outputs": [
    {
     "name": "stdout",
     "output_type": "stream",
     "text": [
      "Dollar Value of Time Bus: $3.83\n",
      "Dollar Value of Time Car: $9.60\n"
     ]
    }
   ],
   "source": [
    "dollor_value_of_time_car = np.abs(timecar_coefficient / costcar_coefficient) * 60\n",
    "dollor_value_of_time_bus = np.abs(timebus_coefficient / costcar_coefficient) * 60\n",
    "print(f\"Dollar Value of Time Bus: ${dollor_value_of_time_bus:.2f}\")\n",
    "print(f\"Dollar Value of Time Car: ${dollor_value_of_time_car:.2f}\")"
   ]
  },
  {
   "cell_type": "markdown",
   "metadata": {},
   "source": [
    "This is willingness to pay by an agent to decrease time for each for 1 hour."
   ]
  },
  {
   "cell_type": "markdown",
   "metadata": {},
   "source": [
    "## Logit model with individual attributes"
   ]
  },
  {
   "cell_type": "code",
   "execution_count": 99,
   "metadata": {},
   "outputs": [
    {
     "name": "stdout",
     "output_type": "stream",
     "text": [
      "Optimization terminated successfully.\n",
      "         Current function value: 0.597449\n",
      "         Iterations 6\n",
      "                           Logit Regression Results                           \n",
      "==============================================================================\n",
      "Dep. Variable:                 output   No. Observations:                 1000\n",
      "Model:                          Logit   Df Residuals:                      996\n",
      "Method:                           MLE   Df Model:                            3\n",
      "Date:                Sat, 27 Jul 2024   Pseudo R-squ.:                  0.1249\n",
      "Time:                        14:16:33   Log-Likelihood:                -597.45\n",
      "converged:                       True   LL-Null:                       -682.74\n",
      "Covariance Type:            nonrobust   LLR p-value:                 9.498e-37\n",
      "=================================================================================\n",
      "                    coef    std err          z      P>|z|      [0.025      0.975]\n",
      "---------------------------------------------------------------------------------\n",
      "const             2.2654      0.331      6.842      0.000       1.616       2.914\n",
      "time.car         -0.3352      0.035     -9.622      0.000      -0.403      -0.267\n",
      "cost.car_Norm   -53.6331     14.549     -3.686      0.000     -82.148     -25.118\n",
      "time.bus          0.1359      0.029      4.719      0.000       0.079       0.192\n",
      "=================================================================================\n"
     ]
    }
   ],
   "source": [
    "# Define the dependent variable\n",
    "y = df['output']\n",
    "\n",
    "df['cost.car_Norm'] = df['cost.car'] / df['income']\n",
    "# Define the independent variables\n",
    "X = df[['time.car', 'cost.car_Norm', 'time.bus']]\n",
    "\n",
    "# Add a constant term to the independent variables\n",
    "X = sm.add_constant(X)\n",
    "\n",
    "# Fit the binary logit model\n",
    "logit_model = sm.Logit(y, X)\n",
    "result = logit_model.fit()\n",
    "# Print the summary of the model\n",
    "print(result.summary())"
   ]
  },
  {
   "cell_type": "code",
   "execution_count": null,
   "metadata": {},
   "outputs": [],
   "source": []
  }
 ],
 "metadata": {
  "kernelspec": {
   "display_name": "Python 3",
   "language": "python",
   "name": "python3"
  },
  "language_info": {
   "codemirror_mode": {
    "name": "ipython",
    "version": 3
   },
   "file_extension": ".py",
   "mimetype": "text/x-python",
   "name": "python",
   "nbconvert_exporter": "python",
   "pygments_lexer": "ipython3",
   "version": "3.11.9"
  }
 },
 "nbformat": 4,
 "nbformat_minor": 2
}
