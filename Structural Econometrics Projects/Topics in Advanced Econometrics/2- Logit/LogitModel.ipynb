{
 "cells": [
  {
   "cell_type": "code",
   "execution_count": 67,
   "metadata": {},
   "outputs": [],
   "source": [
    "import numpy as np\n",
    "import pandas as pd\n",
    "import matplotlib.pyplot as plt\n",
    "import statsmodels.api as sm\n",
    "from scipy.optimize import minimize"
   ]
  },
  {
   "cell_type": "markdown",
   "metadata": {},
   "source": [
    "# Problem 1: Binary Logit Model"
   ]
  },
  {
   "cell_type": "code",
   "execution_count": 55,
   "metadata": {},
   "outputs": [],
   "source": [
    "df = pd.read_csv('C:\\\\Users\\\\moham\\\\My Drive\\\\Projects\\\\Structural Econometrics Projects\\\\Topics in Advanced Econometrics\\\\2- Logit\\\\commute_binary.csv')"
   ]
  },
  {
   "cell_type": "code",
   "execution_count": 56,
   "metadata": {},
   "outputs": [],
   "source": [
    "df['output'] = (df['mode'] == 'car').astype(int)\n",
    "df['Married'] = (df['marital_status'] == 'married').astype(int)"
   ]
  },
  {
   "cell_type": "code",
   "execution_count": 57,
   "metadata": {},
   "outputs": [
    {
     "data": {
      "text/plain": [
       "Index(['id', 'mode', 'time.car', 'cost.car', 'time.bus', 'cost.bus',\n",
       "       'price_gas', 'snowfall', 'construction', 'bus_detour', 'age', 'income',\n",
       "       'marital_status', 'output', 'Married'],\n",
       "      dtype='object')"
      ]
     },
     "execution_count": 57,
     "metadata": {},
     "output_type": "execute_result"
    }
   ],
   "source": [
    "df.columns"
   ]
  },
  {
   "cell_type": "code",
   "execution_count": 59,
   "metadata": {},
   "outputs": [
    {
     "name": "stdout",
     "output_type": "stream",
     "text": [
      "Optimization terminated successfully.\n",
      "         Current function value: 0.600470\n",
      "         Iterations 6\n",
      "                           Logit Regression Results                           \n",
      "==============================================================================\n",
      "Dep. Variable:                 output   No. Observations:                 1000\n",
      "Model:                          Logit   Df Residuals:                      996\n",
      "Method:                           MLE   Df Model:                            3\n",
      "Date:                Mon, 29 Jul 2024   Pseudo R-squ.:                  0.1205\n",
      "Time:                        17:18:47   Log-Likelihood:                -600.47\n",
      "converged:                       True   LL-Null:                       -682.74\n",
      "Covariance Type:            nonrobust   LLR p-value:                 1.914e-35\n",
      "==============================================================================\n",
      "                 coef    std err          z      P>|z|      [0.025      0.975]\n",
      "------------------------------------------------------------------------------\n",
      "const          2.2333      0.347      6.443      0.000       1.554       2.913\n",
      "time.car      -0.3322      0.035     -9.400      0.000      -0.401      -0.263\n",
      "cost.car      -2.0772      0.732     -2.836      0.005      -3.513      -0.642\n",
      "time.bus       0.1326      0.032      4.092      0.000       0.069       0.196\n",
      "==============================================================================\n"
     ]
    }
   ],
   "source": [
    "# Define the dependent variable\n",
    "y = df['output']\n",
    "\n",
    "# Define the independent variables\n",
    "X = df[['time.car', 'cost.car', 'time.bus']]\n",
    "\n",
    "# Add a constant term to the independent variables\n",
    "X = sm.add_constant(X)\n",
    "\n",
    "# Fit the binary logit model\n",
    "logit_model_1 = sm.Logit(y, X)\n",
    "result1 = logit_model_1.fit()\n",
    "# Print the summary of the model\n",
    "print(result1.summary())"
   ]
  },
  {
   "cell_type": "code",
   "execution_count": 19,
   "metadata": {},
   "outputs": [
    {
     "data": {
      "text/plain": [
       "66.8"
      ]
     },
     "execution_count": 19,
     "metadata": {},
     "output_type": "execute_result"
    }
   ],
   "source": [
    "predicted_values = (result1.predict(X)).apply(lambda x: 0 if x < 0.5 else 1)\n",
    "# Compare predicted values with actual values\n",
    "accuracy = (predicted_values == df['output']).mean()\n",
    "\n",
    "# Calculate success rate\n",
    "success_rate = accuracy * 100\n",
    "\n",
    "success_rate"
   ]
  },
  {
   "cell_type": "markdown",
   "metadata": {},
   "source": [
    "## Marginal Effects\n",
    "By ME, we mean the effect of a change in each attribute on the probability of choosing to drive car.\n",
    "\n",
    "From the theory, we know that the marginal effects of each attribute on the probability of choosing to derive is:\n",
    "$$\n",
    "\\beta_z P_{n i}\\left(1-P_{n i}\\right)\n",
    "$$"
   ]
  },
  {
   "cell_type": "code",
   "execution_count": 20,
   "metadata": {},
   "outputs": [],
   "source": [
    "predictions = result1.predict(X)\n",
    "\n",
    "coefficients = result1.params\n",
    "timecar_coefficient = coefficients['time.car']\n",
    "timebus_coefficient = coefficients['time.bus']\n",
    "costcar_coefficient = coefficients['cost.car']\n",
    "\n",
    "df['ME_timecar'] = timecar_coefficient * predictions * (1 - predictions)\n",
    "df['ME_timebus'] = timebus_coefficient * predictions * (1 - predictions)\n",
    "df['ME_costcar'] = costcar_coefficient * predictions * (1 - predictions)"
   ]
  },
  {
   "cell_type": "code",
   "execution_count": 21,
   "metadata": {},
   "outputs": [
    {
     "data": {
      "text/html": [
       "<div>\n",
       "<style scoped>\n",
       "    .dataframe tbody tr th:only-of-type {\n",
       "        vertical-align: middle;\n",
       "    }\n",
       "\n",
       "    .dataframe tbody tr th {\n",
       "        vertical-align: top;\n",
       "    }\n",
       "\n",
       "    .dataframe thead th {\n",
       "        text-align: right;\n",
       "    }\n",
       "</style>\n",
       "<table border=\"1\" class=\"dataframe\">\n",
       "  <thead>\n",
       "    <tr style=\"text-align: right;\">\n",
       "      <th></th>\n",
       "      <th>ME_timecar</th>\n",
       "      <th>ME_timebus</th>\n",
       "      <th>ME_costcar</th>\n",
       "    </tr>\n",
       "  </thead>\n",
       "  <tbody>\n",
       "    <tr>\n",
       "      <th>min</th>\n",
       "      <td>-0.083054</td>\n",
       "      <td>0.000963</td>\n",
       "      <td>-0.519289</td>\n",
       "    </tr>\n",
       "    <tr>\n",
       "      <th>25%</th>\n",
       "      <td>-0.081579</td>\n",
       "      <td>0.024823</td>\n",
       "      <td>-0.510069</td>\n",
       "    </tr>\n",
       "    <tr>\n",
       "      <th>50%</th>\n",
       "      <td>-0.076326</td>\n",
       "      <td>0.030459</td>\n",
       "      <td>-0.477225</td>\n",
       "    </tr>\n",
       "    <tr>\n",
       "      <th>75%</th>\n",
       "      <td>-0.062203</td>\n",
       "      <td>0.032555</td>\n",
       "      <td>-0.388920</td>\n",
       "    </tr>\n",
       "    <tr>\n",
       "      <th>max</th>\n",
       "      <td>-0.002413</td>\n",
       "      <td>0.033144</td>\n",
       "      <td>-0.015087</td>\n",
       "    </tr>\n",
       "    <tr>\n",
       "      <th>mean</th>\n",
       "      <td>-0.069001</td>\n",
       "      <td>0.027536</td>\n",
       "      <td>-0.431426</td>\n",
       "    </tr>\n",
       "  </tbody>\n",
       "</table>\n",
       "</div>"
      ],
      "text/plain": [
       "      ME_timecar  ME_timebus  ME_costcar\n",
       "min    -0.083054    0.000963   -0.519289\n",
       "25%    -0.081579    0.024823   -0.510069\n",
       "50%    -0.076326    0.030459   -0.477225\n",
       "75%    -0.062203    0.032555   -0.388920\n",
       "max    -0.002413    0.033144   -0.015087\n",
       "mean   -0.069001    0.027536   -0.431426"
      ]
     },
     "execution_count": 21,
     "metadata": {},
     "output_type": "execute_result"
    }
   ],
   "source": [
    "new_columns = ['ME_timecar', 'ME_timebus', 'ME_costcar']\n",
    "summary = df[new_columns].describe().loc[['min', '25%', '50%', '75%', 'max', 'mean']]\n",
    "summary"
   ]
  },
  {
   "cell_type": "markdown",
   "metadata": {},
   "source": [
    "These Marginal effects on the mean are very similar to the marginal effects in a LPM. Though, these MEs have heterogeneity and change around the mean. Therefore, this is a better model to work with."
   ]
  },
  {
   "cell_type": "markdown",
   "metadata": {},
   "source": [
    "## Finding the Dollor value of each attribute\n",
    "\n",
    "As costcar attribute is in money terms. We have the MU of money. Therefore, just divide by this coeff."
   ]
  },
  {
   "cell_type": "code",
   "execution_count": 22,
   "metadata": {},
   "outputs": [
    {
     "name": "stdout",
     "output_type": "stream",
     "text": [
      "Dollar Value of Time Bus: $3.83\n",
      "Dollar Value of Time Car: $9.60\n"
     ]
    }
   ],
   "source": [
    "dollor_value_of_time_car = np.abs(timecar_coefficient / costcar_coefficient) * 60\n",
    "dollor_value_of_time_bus = np.abs(timebus_coefficient / costcar_coefficient) * 60\n",
    "print(f\"Dollar Value of Time Bus: ${dollor_value_of_time_bus:.2f}\")\n",
    "print(f\"Dollar Value of Time Car: ${dollor_value_of_time_car:.2f}\")"
   ]
  },
  {
   "cell_type": "markdown",
   "metadata": {},
   "source": [
    "This is willingness to pay by an agent to decrease time for each for 1 hour."
   ]
  },
  {
   "cell_type": "markdown",
   "metadata": {},
   "source": [
    "## Logit model with individual attributes\n",
    "\n",
    "$$\n",
    "V = \\beta_0+\\frac{\\beta_1}{I_n} C_{n c}+\\beta_2 T_{n c}+\\beta_3 T_{n b}\n",
    "\n",
    "$$"
   ]
  },
  {
   "cell_type": "code",
   "execution_count": 23,
   "metadata": {},
   "outputs": [
    {
     "name": "stdout",
     "output_type": "stream",
     "text": [
      "Optimization terminated successfully.\n",
      "         Current function value: 0.597449\n",
      "         Iterations 6\n",
      "                           Logit Regression Results                           \n",
      "==============================================================================\n",
      "Dep. Variable:                 output   No. Observations:                 1000\n",
      "Model:                          Logit   Df Residuals:                      996\n",
      "Method:                           MLE   Df Model:                            3\n",
      "Date:                Sun, 28 Jul 2024   Pseudo R-squ.:                  0.1249\n",
      "Time:                        09:59:48   Log-Likelihood:                -597.45\n",
      "converged:                       True   LL-Null:                       -682.74\n",
      "Covariance Type:            nonrobust   LLR p-value:                 9.498e-37\n",
      "=================================================================================\n",
      "                    coef    std err          z      P>|z|      [0.025      0.975]\n",
      "---------------------------------------------------------------------------------\n",
      "const             2.2654      0.331      6.842      0.000       1.616       2.914\n",
      "time.car         -0.3352      0.035     -9.622      0.000      -0.403      -0.267\n",
      "cost.car_Norm   -53.6331     14.549     -3.686      0.000     -82.148     -25.118\n",
      "time.bus          0.1359      0.029      4.719      0.000       0.079       0.192\n",
      "=================================================================================\n"
     ]
    }
   ],
   "source": [
    "# Define the dependent variable\n",
    "y = df['output']\n",
    "\n",
    "df['cost.car_Norm'] = df['cost.car'] / df['income']\n",
    "# Define the independent variables\n",
    "X = df[['time.car', 'cost.car_Norm', 'time.bus']]\n",
    "\n",
    "# Add a constant term to the independent variables\n",
    "X = sm.add_constant(X)\n",
    "\n",
    "# Fit the binary logit model\n",
    "logit_model2 = sm.Logit(y, X)\n",
    "result2 = logit_model2.fit()\n",
    "# Print the summary of the model\n",
    "print(result2.summary())"
   ]
  },
  {
   "cell_type": "markdown",
   "metadata": {},
   "source": [
    "Then, in this case, the coefficient of cost.car is basically heterogeneous. Some summary facts on it are as follows:"
   ]
  },
  {
   "cell_type": "code",
   "execution_count": 30,
   "metadata": {},
   "outputs": [
    {
     "name": "stdout",
     "output_type": "stream",
     "text": [
      "min    -4.47\n",
      "25%    -2.44\n",
      "50%    -2.15\n",
      "75%    -1.92\n",
      "max    -1.49\n",
      "mean   -2.21\n",
      "Name: cost.car_heterogenous, dtype: float64\n",
      "-2.08\n"
     ]
    }
   ],
   "source": [
    "predictions = result2.predict(X)\n",
    "\n",
    "coefficients = result2.params\n",
    "costcar_coefficient = coefficients['cost.car_Norm']\n",
    "\n",
    "df['cost.car_heterogenous'] = costcar_coefficient / df['income']\n",
    "summary = df['cost.car_heterogenous'].describe().loc[['min', '25%', '50%', '75%', 'max', 'mean']].round(2)\n",
    "print(summary)\n",
    "print(result1.params['cost.car'].round(2))"
   ]
  },
  {
   "cell_type": "code",
   "execution_count": 37,
   "metadata": {},
   "outputs": [
    {
     "data": {
      "image/png": "[encoded data removed]",
      "text/plain": [
       "<Figure size 640x480 with 1 Axes>"
      ]
     },
     "metadata": {},
     "output_type": "display_data"
    }
   ],
   "source": [
    "import matplotlib.pyplot as plt\n",
    "\n",
    "# Sort the dataframe by income in ascending order\n",
    "sorted_df = df.sort_values('income')\n",
    "\n",
    "# Plot the data\n",
    "plt.plot(sorted_df['income'], sorted_df['cost.car_heterogenous'])\n",
    "\n",
    "# Add a vertical line at a specific x-coordinate\n",
    "plt.axhline(y=result1.params['cost.car'].round(2), color='r', linestyle='--')\n",
    "\n",
    "# Set the x-axis label\n",
    "plt.xlabel('Income')\n",
    "\n",
    "# Set the y-axis label\n",
    "plt.ylabel('Cost.car_heterogeneous')\n",
    "\n",
    "# Show the plot\n",
    "plt.show()"
   ]
  },
  {
   "cell_type": "markdown",
   "metadata": {},
   "source": [
    "So, higher income is associated with lower absolute value of MU for costcar. In other words, the higher the income, the lower the effect of costcar variable on the utility of our agent. This actually makes sense as with higher income, you should care less about the costs. Also, the horizontal red line is the homogenous level for this coefficient solved for in the model with no heterogenous attributes."
   ]
  },
  {
   "cell_type": "markdown",
   "metadata": {},
   "source": [
    "Now, first, let us find the MU of income for three different income levels, 15000, 25000 and 35000. Also, the dollor value of time for both bus and car."
   ]
  },
  {
   "cell_type": "code",
   "execution_count": 45,
   "metadata": {},
   "outputs": [
    {
     "data": {
      "text/html": [
       "<div>\n",
       "<style scoped>\n",
       "    .dataframe tbody tr th:only-of-type {\n",
       "        vertical-align: middle;\n",
       "    }\n",
       "\n",
       "    .dataframe tbody tr th {\n",
       "        vertical-align: top;\n",
       "    }\n",
       "\n",
       "    .dataframe thead th {\n",
       "        text-align: right;\n",
       "    }\n",
       "</style>\n",
       "<table border=\"1\" class=\"dataframe\">\n",
       "  <thead>\n",
       "    <tr style=\"text-align: right;\">\n",
       "      <th></th>\n",
       "      <th>Income Level</th>\n",
       "      <th>MU_cost_het</th>\n",
       "      <th>Value_of_time_car</th>\n",
       "      <th>Value_of_time_bus</th>\n",
       "    </tr>\n",
       "  </thead>\n",
       "  <tbody>\n",
       "    <tr>\n",
       "      <th>0</th>\n",
       "      <td>15</td>\n",
       "      <td>-3.58</td>\n",
       "      <td>5.63</td>\n",
       "      <td>2.28</td>\n",
       "    </tr>\n",
       "    <tr>\n",
       "      <th>1</th>\n",
       "      <td>25</td>\n",
       "      <td>-2.15</td>\n",
       "      <td>9.38</td>\n",
       "      <td>3.80</td>\n",
       "    </tr>\n",
       "    <tr>\n",
       "      <th>2</th>\n",
       "      <td>35</td>\n",
       "      <td>-1.53</td>\n",
       "      <td>13.13</td>\n",
       "      <td>5.32</td>\n",
       "    </tr>\n",
       "  </tbody>\n",
       "</table>\n",
       "</div>"
      ],
      "text/plain": [
       "   Income Level  MU_cost_het  Value_of_time_car  Value_of_time_bus\n",
       "0            15        -3.58               5.63               2.28\n",
       "1            25        -2.15               9.38               3.80\n",
       "2            35        -1.53              13.13               5.32"
      ]
     },
     "execution_count": 45,
     "metadata": {},
     "output_type": "execute_result"
    }
   ],
   "source": [
    "income_levels = [15,25,35]\n",
    "MU_cost_het = costcar_coefficient/income_levels\n",
    "timecar_coefficient = coefficients['time.car']\n",
    "timebus_coefficient = coefficients['time.bus']\n",
    "\n",
    "df_income_levels = pd.DataFrame({'Income Level': income_levels, 'MU_cost_het': MU_cost_het})\n",
    "df_income_levels['Value_of_time_car'] = np.abs(timecar_coefficient / MU_cost_het * 60)\n",
    "df_income_levels['Value_of_time_bus'] = np.abs(timebus_coefficient / MU_cost_het * 60)\n",
    "df_income_levels.round(2)"
   ]
  },
  {
   "cell_type": "markdown",
   "metadata": {},
   "source": [
    "This means that, the higher the income, the higher the willingness to pay to decrease time of travel by 1 hour. One can see that, making things heterogenous changes everything."
   ]
  },
  {
   "cell_type": "markdown",
   "metadata": {},
   "source": [
    "# Problem 2: Multinomial Logit Model\n",
    "\n",
    "The model we have in mind is:\n",
    "\n",
    "$$\n",
    "V_{n, bike}= \\beta_1 C_{n,bike}+\\beta_{bike} T_{n,bike}\\\\\n",
    "V_{n, bus}= \\alpha_{bus} + \\beta_1 C_{n,bus}+\\beta_{bus} T_{n,bus}\\\\\n",
    "V_{n, car}= \\alpha_{car} + \\beta_1 C_{n,car}+\\beta_{car} T_{n,car}\\\\\n",
    "V_{n, walk}= \\alpha_{walk} + \\beta_1 C_{n,walk}+\\beta_{walk} T_{n,walk}\n",
    "$$\n",
    "\n",
    "So, intercept and the coefficient of time is dependent on the choice variable, yet the cost coeff is the same for all. \n",
    "\n",
    "The data to use should have $x_{ni}$ for the attributes for each agent and alternative. These attributes are cost and time for now. So, these attributes are eight for each observation. The format in mind for the data is that we expand each observation into four, and have time, cost and choice columns.\n",
    "\n",
    "We can see that the parameter space is eight dimensional."
   ]
  },
  {
   "cell_type": "code",
   "execution_count": 164,
   "metadata": {},
   "outputs": [],
   "source": [
    "df = pd.read_csv('C:\\\\Users\\\\moham\\\\My Drive\\\\Projects\\\\Structural Econometrics Projects\\\\Topics in Advanced Econometrics\\\\2- Logit\\\\commute_multinomial.csv')"
   ]
  },
  {
   "cell_type": "code",
   "execution_count": 165,
   "metadata": {},
   "outputs": [],
   "source": [
    "# List of modes\n",
    "modes = ['bike', 'bus', 'car', 'walk']\n",
    "\n",
    "# Reshape the DataFrame\n",
    "rows = []\n",
    "for index, row in df.iterrows():\n",
    "    for mode in modes:\n",
    "        rows.append({\n",
    "            'id': row['id'],\n",
    "            'mode': mode,\n",
    "            'age': row['age'],\n",
    "            'income': row['income'],\n",
    "            'marital_status': row['marital_status'],\n",
    "            'time': row[f'time.{mode}'],\n",
    "            'cost': row[f'cost.{mode}'],\n",
    "            'choice': 1 if row['mode'] == mode else 0\n",
    "        })\n",
    "\n",
    "df_long = pd.DataFrame(rows)\n",
    "\n",
    "df_long['Married'] = (df_long['marital_status'] == 'married').astype(int)\n",
    "# Reorder columns\n",
    "\n",
    "for mode in modes:\n",
    "    df_long[f'dummy_{mode}'] = (df_long['mode'] == mode).astype(int)\n",
    "    df_long[f'time_{mode}'] = df_long['time'] * df_long[f'dummy_{mode}']"
   ]
  },
  {
   "cell_type": "code",
   "execution_count": 166,
   "metadata": {},
   "outputs": [
    {
     "data": {
      "text/html": [
       "<div>\n",
       "<style scoped>\n",
       "    .dataframe tbody tr th:only-of-type {\n",
       "        vertical-align: middle;\n",
       "    }\n",
       "\n",
       "    .dataframe tbody tr th {\n",
       "        vertical-align: top;\n",
       "    }\n",
       "\n",
       "    .dataframe thead th {\n",
       "        text-align: right;\n",
       "    }\n",
       "</style>\n",
       "<table border=\"1\" class=\"dataframe\">\n",
       "  <thead>\n",
       "    <tr style=\"text-align: right;\">\n",
       "      <th></th>\n",
       "      <th>id</th>\n",
       "      <th>mode</th>\n",
       "      <th>age</th>\n",
       "      <th>income</th>\n",
       "      <th>marital_status</th>\n",
       "      <th>time</th>\n",
       "      <th>cost</th>\n",
       "      <th>choice</th>\n",
       "      <th>Married</th>\n",
       "      <th>dummy_bike</th>\n",
       "      <th>time_bike</th>\n",
       "      <th>dummy_bus</th>\n",
       "      <th>time_bus</th>\n",
       "      <th>dummy_car</th>\n",
       "      <th>time_car</th>\n",
       "      <th>dummy_walk</th>\n",
       "      <th>time_walk</th>\n",
       "    </tr>\n",
       "  </thead>\n",
       "  <tbody>\n",
       "    <tr>\n",
       "      <th>0</th>\n",
       "      <td>1</td>\n",
       "      <td>bike</td>\n",
       "      <td>33</td>\n",
       "      <td>28</td>\n",
       "      <td>married</td>\n",
       "      <td>20</td>\n",
       "      <td>0.00</td>\n",
       "      <td>0</td>\n",
       "      <td>1</td>\n",
       "      <td>1</td>\n",
       "      <td>20</td>\n",
       "      <td>0</td>\n",
       "      <td>0</td>\n",
       "      <td>0</td>\n",
       "      <td>0</td>\n",
       "      <td>0</td>\n",
       "      <td>0</td>\n",
       "    </tr>\n",
       "    <tr>\n",
       "      <th>1</th>\n",
       "      <td>1</td>\n",
       "      <td>bus</td>\n",
       "      <td>33</td>\n",
       "      <td>28</td>\n",
       "      <td>married</td>\n",
       "      <td>20</td>\n",
       "      <td>0.00</td>\n",
       "      <td>1</td>\n",
       "      <td>1</td>\n",
       "      <td>0</td>\n",
       "      <td>0</td>\n",
       "      <td>1</td>\n",
       "      <td>20</td>\n",
       "      <td>0</td>\n",
       "      <td>0</td>\n",
       "      <td>0</td>\n",
       "      <td>0</td>\n",
       "    </tr>\n",
       "    <tr>\n",
       "      <th>2</th>\n",
       "      <td>1</td>\n",
       "      <td>car</td>\n",
       "      <td>33</td>\n",
       "      <td>28</td>\n",
       "      <td>married</td>\n",
       "      <td>16</td>\n",
       "      <td>0.82</td>\n",
       "      <td>0</td>\n",
       "      <td>1</td>\n",
       "      <td>0</td>\n",
       "      <td>0</td>\n",
       "      <td>0</td>\n",
       "      <td>0</td>\n",
       "      <td>1</td>\n",
       "      <td>16</td>\n",
       "      <td>0</td>\n",
       "      <td>0</td>\n",
       "    </tr>\n",
       "    <tr>\n",
       "      <th>3</th>\n",
       "      <td>1</td>\n",
       "      <td>walk</td>\n",
       "      <td>33</td>\n",
       "      <td>28</td>\n",
       "      <td>married</td>\n",
       "      <td>55</td>\n",
       "      <td>0.00</td>\n",
       "      <td>0</td>\n",
       "      <td>1</td>\n",
       "      <td>0</td>\n",
       "      <td>0</td>\n",
       "      <td>0</td>\n",
       "      <td>0</td>\n",
       "      <td>0</td>\n",
       "      <td>0</td>\n",
       "      <td>1</td>\n",
       "      <td>55</td>\n",
       "    </tr>\n",
       "    <tr>\n",
       "      <th>4</th>\n",
       "      <td>2</td>\n",
       "      <td>bike</td>\n",
       "      <td>25</td>\n",
       "      <td>28</td>\n",
       "      <td>single</td>\n",
       "      <td>15</td>\n",
       "      <td>0.00</td>\n",
       "      <td>0</td>\n",
       "      <td>0</td>\n",
       "      <td>1</td>\n",
       "      <td>15</td>\n",
       "      <td>0</td>\n",
       "      <td>0</td>\n",
       "      <td>0</td>\n",
       "      <td>0</td>\n",
       "      <td>0</td>\n",
       "      <td>0</td>\n",
       "    </tr>\n",
       "  </tbody>\n",
       "</table>\n",
       "</div>"
      ],
      "text/plain": [
       "   id  mode  age  income marital_status  time  cost  choice  Married  \\\n",
       "0   1  bike   33      28        married    20  0.00       0        1   \n",
       "1   1   bus   33      28        married    20  0.00       1        1   \n",
       "2   1   car   33      28        married    16  0.82       0        1   \n",
       "3   1  walk   33      28        married    55  0.00       0        1   \n",
       "4   2  bike   25      28         single    15  0.00       0        0   \n",
       "\n",
       "   dummy_bike  time_bike  dummy_bus  time_bus  dummy_car  time_car  \\\n",
       "0           1         20          0         0          0         0   \n",
       "1           0          0          1        20          0         0   \n",
       "2           0          0          0         0          1        16   \n",
       "3           0          0          0         0          0         0   \n",
       "4           1         15          0         0          0         0   \n",
       "\n",
       "   dummy_walk  time_walk  \n",
       "0           0          0  \n",
       "1           0          0  \n",
       "2           0          0  \n",
       "3           1         55  \n",
       "4           0          0  "
      ]
     },
     "execution_count": 166,
     "metadata": {},
     "output_type": "execute_result"
    }
   ],
   "source": [
    "df_long.head()"
   ]
  },
  {
   "cell_type": "markdown",
   "metadata": {},
   "source": [
    "The log-likelihood function of this model is as follows:\n",
    "\n",
    "$$\n",
    "\\ln L(\\theta \\mid y, \\boldsymbol{X})=\\sum_{n=1}^N \\sum_{i=1}^J y_{n i} \\ln \\left[\\frac{e^{\\alpha_i + \\beta_c C_{n,i} + \\beta_j T_{n,i}}}{\\sum_j e^{\\alpha_j + \\beta_c C_{n,j} + \\beta_j T_{n,j}}}\\right]\n",
    "$$\n",
    "\n",
    "Now, we define a function, which, given the data and a set of paremters, solve for this log-likelihood function."
   ]
  },
  {
   "cell_type": "code",
   "execution_count": 167,
   "metadata": {},
   "outputs": [],
   "source": [
    "def loglikelihood(params):\n",
    "    # Define the dependent variable\n",
    "    params = np.insert(params, 0, 0)\n",
    "    y = df_long['choice']\n",
    "    X = df_long[['dummy_bike', 'dummy_bus', 'dummy_car', 'dummy_walk',\n",
    "              'cost', \n",
    "              'time_bike', 'time_bus', 'time_car', 'time_walk']]\n",
    "    \n",
    "    df_long['util'] = np.exp(X @ params)\n",
    "    \n",
    "    df_long['sum_util'] = df_long.groupby('id')['util'].transform('sum')\n",
    "    df_long['inner_sum'] = np.log(df_long['util']/df_long['sum_util'])\n",
    "    \n",
    "    return -1 * np.sum(df_long['inner_sum'] * df_long['choice'])"
   ]
  },
  {
   "cell_type": "code",
   "execution_count": 168,
   "metadata": {},
   "outputs": [],
   "source": [
    "initial_guess = np.zeros(8)\n",
    "# Perform the optimization\n",
    "result = minimize(loglikelihood, initial_guess, method='BFGS')\n",
    "\n",
    "# Extract the optimized parameters\n",
    "optimized_params = result.x\n",
    "optimized_params = np.insert(optimized_params, 0, 0)\n",
    "# Since we minimized the negative function, the maximum value is the negative of the minimized value\n",
    "max_value = -result.fun"
   ]
  },
  {
   "cell_type": "markdown",
   "metadata": {},
   "source": [
    "So, the coefficients are as follows:"
   ]
  },
  {
   "cell_type": "code",
   "execution_count": 169,
   "metadata": {},
   "outputs": [
    {
     "name": "stdout",
     "output_type": "stream",
     "text": [
      "Intercept for bike mode: 0.0\n",
      "Intercept for bus mode: -0.219\n",
      "Intercept for car mode: 2.746\n",
      "Intercept for walk mode: 2.975\n",
      "Cost coefficient: -2.604\n",
      "Time coefficient for bike mode: -0.289\n",
      "Time coefficient for bus mode: -0.143\n",
      "Time coefficient for car mode: -0.405\n",
      "Time coefficient for walk mode: -0.297\n"
     ]
    }
   ],
   "source": [
    "intercept_bike = round(optimized_params[0], 3)\n",
    "intercept_bus = round(optimized_params[1], 3)\n",
    "intercept_car = round(optimized_params[2], 3)\n",
    "intercept_walk = round(optimized_params[3], 3)\n",
    "cost_coefficient = round(optimized_params[4], 3)\n",
    "time_bike_coefficient = round(optimized_params[5], 3)\n",
    "time_bus_coefficient = round(optimized_params[6], 3)\n",
    "time_car_coefficient = round(optimized_params[7], 3)\n",
    "time_walk_coefficient = round(optimized_params[8], 3)\n",
    "\n",
    "print(\"Intercept for bike mode:\", intercept_bike)\n",
    "print(\"Intercept for bus mode:\", intercept_bus)\n",
    "print(\"Intercept for car mode:\", intercept_car)\n",
    "print(\"Intercept for walk mode:\", intercept_walk)\n",
    "print(\"Cost coefficient:\", cost_coefficient)\n",
    "print(\"Time coefficient for bike mode:\", time_bike_coefficient)\n",
    "print(\"Time coefficient for bus mode:\", time_bus_coefficient)\n",
    "print(\"Time coefficient for car mode:\", time_car_coefficient)\n",
    "print(\"Time coefficient for walk mode:\", time_walk_coefficient)"
   ]
  },
  {
   "cell_type": "markdown",
   "metadata": {},
   "source": [
    "Now, we can fit the model by finding the probability of each mode for each id."
   ]
  },
  {
   "cell_type": "code",
   "execution_count": 170,
   "metadata": {},
   "outputs": [],
   "source": [
    "def fit(data, optimized_params):\n",
    "    # Define the dependent variable\n",
    "    y = data['choice']\n",
    "    X = data[['dummy_bike', 'dummy_bus', 'dummy_car', 'dummy_walk',\n",
    "              'cost', \n",
    "              'time_bike', 'time_bus', 'time_car', 'time_walk']]\n",
    "    \n",
    "    data['util'] = np.exp(X @ optimized_params)\n",
    "    \n",
    "    data['sum_util'] = data.groupby('id')['util'].transform('sum')\n",
    "    data['prob'] = data['util']/data['sum_util']\n",
    "    \n",
    "    return data"
   ]
  },
  {
   "cell_type": "code",
   "execution_count": 171,
   "metadata": {},
   "outputs": [],
   "source": [
    "df_long = fit(df_long, optimized_params)\n",
    "df_long['predict'] = (df_long['prob'] == df_long.groupby('id')['prob'].transform('max')).astype(int)"
   ]
  },
  {
   "cell_type": "markdown",
   "metadata": {},
   "source": [
    "Then, the precision of our model is:"
   ]
  },
  {
   "cell_type": "code",
   "execution_count": 172,
   "metadata": {},
   "outputs": [
    {
     "name": "stdout",
     "output_type": "stream",
     "text": [
      "Accuracy: 0.78\n"
     ]
    }
   ],
   "source": [
    "accuracy = (df_long['predict'] == df_long['choice']).mean()\n",
    "print(f\"Accuracy: {accuracy:.2f}\")"
   ]
  },
  {
   "cell_type": "markdown",
   "metadata": {},
   "source": [
    "## Cross elasticity of prob with respect to cost of driving\n",
    "\n",
    "$$\n",
    "\\text{Elasticity: } \\quad E_{i z_{n i}}=\\frac{\\partial V_{n i}}{\\partial z_{n i}} z_{n i}\\left(1-P_{n i}\\right) = \\beta_z z_{n i}\\left(1-P_{n i}\\right) \\\\\n",
    "\\text{Cross Elasticity: }\\quad E_{i z_{n j}}=-\\frac{\\partial V_{n i}}{\\partial z_{n j}} z_{n j}P_{nj} = -\\beta_z z_{n j}P_{nj}\n",
    "$$\n",
    "\n",
    "So, elasticity only depends on the attributes and probability of choosing the alternative we are trying to find the elasticity on. This is why this model of logit is sometimes called IIA-logit, which is related to the independence of irrelevant alternatives characteristic of these elasticities. In other words, the elasticity of all alternatives with respect to the cost of driving is the same. "
   ]
  },
  {
   "cell_type": "code",
   "execution_count": 173,
   "metadata": {},
   "outputs": [],
   "source": [
    "df_long = df_long.merge(df[['id', 'cost.car']], on='id', how='left')"
   ]
  },
  {
   "cell_type": "code",
   "execution_count": 174,
   "metadata": {},
   "outputs": [],
   "source": [
    "car_prob = df_long[df_long['mode'] == 'car'][['id', 'prob']].rename(columns={'prob': 'prob_car'})\n",
    "\n",
    "# Merge this DataFrame back with the original DataFrame on 'id'\n",
    "df_long = df_long.merge(car_prob, on='id', how='left')"
   ]
  },
  {
   "cell_type": "code",
   "execution_count": 176,
   "metadata": {
    "vscode": {
     "languageId": "ruby"
    }
   },
   "outputs": [],
   "source": [
    "df_long['Elas_drive'] = np.where(df_long['mode'] == 'car', \n",
    "cost_coefficient * df_long['cost.car'] * (1 - df_long['prob_car']), \n",
    "-cost_coefficient * df_long['cost.car'] * df_long['prob_car'])"
   ]
  },
  {
   "cell_type": "code",
   "execution_count": 182,
   "metadata": {
    "vscode": {
     "languageId": "ruby"
    }
   },
   "outputs": [
    {
     "data": {
      "text/html": [
       "<div>\n",
       "<style scoped>\n",
       "    .dataframe tbody tr th:only-of-type {\n",
       "        vertical-align: middle;\n",
       "    }\n",
       "\n",
       "    .dataframe tbody tr th {\n",
       "        vertical-align: top;\n",
       "    }\n",
       "\n",
       "    .dataframe thead th {\n",
       "        text-align: right;\n",
       "    }\n",
       "</style>\n",
       "<table border=\"1\" class=\"dataframe\">\n",
       "  <thead>\n",
       "    <tr style=\"text-align: right;\">\n",
       "      <th></th>\n",
       "      <th>Own Elasticity</th>\n",
       "      <th>Cross Elasticity</th>\n",
       "    </tr>\n",
       "  </thead>\n",
       "  <tbody>\n",
       "    <tr>\n",
       "      <th>min</th>\n",
       "      <td>-4.612173</td>\n",
       "      <td>0.020002</td>\n",
       "    </tr>\n",
       "    <tr>\n",
       "      <th>25%</th>\n",
       "      <td>-0.875723</td>\n",
       "      <td>0.250825</td>\n",
       "    </tr>\n",
       "    <tr>\n",
       "      <th>50%</th>\n",
       "      <td>-0.525526</td>\n",
       "      <td>0.348664</td>\n",
       "    </tr>\n",
       "    <tr>\n",
       "      <th>75%</th>\n",
       "      <td>-0.354907</td>\n",
       "      <td>0.445285</td>\n",
       "    </tr>\n",
       "    <tr>\n",
       "      <th>max</th>\n",
       "      <td>-0.108766</td>\n",
       "      <td>0.917387</td>\n",
       "    </tr>\n",
       "    <tr>\n",
       "      <th>mean</th>\n",
       "      <td>-0.723547</td>\n",
       "      <td>0.349587</td>\n",
       "    </tr>\n",
       "  </tbody>\n",
       "</table>\n",
       "</div>"
      ],
      "text/plain": [
       "      Own Elasticity  Cross Elasticity\n",
       "min        -4.612173          0.020002\n",
       "25%        -0.875723          0.250825\n",
       "50%        -0.525526          0.348664\n",
       "75%        -0.354907          0.445285\n",
       "max        -0.108766          0.917387\n",
       "mean       -0.723547          0.349587"
      ]
     },
     "execution_count": 182,
     "metadata": {},
     "output_type": "execute_result"
    }
   ],
   "source": [
    "own_elasticity_summary = df_long[df_long['mode'] == 'car']['Elas_drive'].describe().loc[['min', '25%', '50%', '75%', 'max', 'mean']]\n",
    "cross_elasticity_summary = df_long[df_long['mode'] != 'car']['Elas_drive'].describe().loc[['min', '25%', '50%', '75%', 'max', 'mean']]\n",
    "\n",
    "elasticity_summary = pd.DataFrame({'Own Elasticity': own_elasticity_summary, 'Cross Elasticity': cross_elasticity_summary})\n",
    "elasticity_summary"
   ]
  }
 ],
 "metadata": {
  "kernelspec": {
   "display_name": "Python 3",
   "language": "python",
   "name": "python3"
  },
  "language_info": {
   "codemirror_mode": {
    "name": "ipython",
    "version": 3
   },
   "file_extension": ".py",
   "mimetype": "text/x-python",
   "name": "python",
   "nbconvert_exporter": "python",
   "pygments_lexer": "ipython3",
   "version": "3.11.9"
  }
 },
 "nbformat": 4,
 "nbformat_minor": 2
}
