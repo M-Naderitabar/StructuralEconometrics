{
 "cells": [
  {
   "cell_type": "code",
   "execution_count": 1,
   "metadata": {},
   "outputs": [],
   "source": [
    "import numpy as np\n",
    "import pandas as pd\n",
    "import statsmodels.api as sm\n",
    "\n",
    "# Sample data generation (Replace with your actual data)\n",
    "np.random.seed(0)\n",
    "n_samples = 100\n",
    "\n",
    "# Generating random data\n",
    "data = {\n",
    "    'individual_var': np.random.rand(n_samples),  # Individual-specific variable\n",
    "    'cost_car': np.random.rand(n_samples),\n",
    "    'time_car': np.random.rand(n_samples),\n",
    "    'cost_bus': np.random.rand(n_samples),\n",
    "    'time_bus': np.random.rand(n_samples),\n",
    "    'cost_bike': np.random.rand(n_samples),\n",
    "    'time_bike': np.random.rand(n_samples),\n",
    "    'cost_walk': np.random.rand(n_samples),\n",
    "    'time_walk': np.random.rand(n_samples),\n",
    "    'choice': np.random.choice(['car', 'bus', 'bike', 'walk'], size=n_samples)\n",
    "}\n",
    "\n",
    "df = pd.DataFrame(data)\n",
    "\n",
    "# Encoding the choice column to numerical values\n",
    "df['choice'] = df['choice'].astype('category').cat.codes"
   ]
  },
  {
   "cell_type": "code",
   "execution_count": 2,
   "metadata": {},
   "outputs": [],
   "source": [
    "# Define choices and corresponding columns\n",
    "choices = ['car', 'bus', 'bike', 'walk']\n",
    "time_cols = [f'time_{choice}' for choice in choices]\n",
    "cost_cols = [f'cost_{choice}' for choice in choices]\n",
    "\n",
    "# Initialize the design matrix\n",
    "X = pd.DataFrame()\n",
    "\n",
    "# Add cost and time columns, only including relevant columns for each alternative\n",
    "for choice in choices:\n",
    "    for col in ['cost', 'time']:\n",
    "        X[f'{col}_{choice}'] = np.where(df['choice'] == choices.index(choice), df[f'{col}_{choice}'], 0)\n",
    "\n",
    "# Add intercepts (alternative-specific)\n",
    "for choice in choices[1:]:  # Avoid multicollinearity with baseline (car)\n",
    "    X[f'intercept_{choice}'] = (df['choice'] == choices.index(choice)).astype(int)\n",
    "\n",
    "# Adding the individual-specific variable (it is the same for all alternatives)\n",
    "X['individual_var'] = df['individual_var']\n",
    "\n",
    "# Adding a constant for the baseline intercept\n",
    "X = sm.add_constant(X)\n",
    "\n",
    "# Dependent variable\n",
    "y = df['choice']"
   ]
  }
 ],
 "metadata": {
  "kernelspec": {
   "display_name": "Python 3",
   "language": "python",
   "name": "python3"
  },
  "language_info": {
   "codemirror_mode": {
    "name": "ipython",
    "version": 3
   },
   "file_extension": ".py",
   "mimetype": "text/x-python",
   "name": "python",
   "nbconvert_exporter": "python",
   "pygments_lexer": "ipython3",
   "version": "3.11.9"
  }
 },
 "nbformat": 4,
 "nbformat_minor": 2
}
