{
 "cells": [
  {
   "cell_type": "code",
   "execution_count": 1,
   "metadata": {},
   "outputs": [],
   "source": [
    "import polars as pl\n",
    "import pandas as pd\n",
    "import statsmodels.api as sm\n",
    "import matplotlib.pyplot as plt"
   ]
  },
  {
   "cell_type": "code",
   "execution_count": 3,
   "metadata": {},
   "outputs": [],
   "source": [
    "df = pd.read_csv('C:\\\\Users\\\\moham\\\\My Drive\\\\Course\\\\Structural Econometrics Projects\\\\Topics in Advanced Econometrics\\\\LPM\\\\commute_binary.csv')"
   ]
  },
  {
   "cell_type": "code",
   "execution_count": 6,
   "metadata": {},
   "outputs": [
    {
     "data": {
      "text/html": [
       "<div>\n",
       "<style scoped>\n",
       "    .dataframe tbody tr th:only-of-type {\n",
       "        vertical-align: middle;\n",
       "    }\n",
       "\n",
       "    .dataframe tbody tr th {\n",
       "        vertical-align: top;\n",
       "    }\n",
       "\n",
       "    .dataframe thead th {\n",
       "        text-align: right;\n",
       "    }\n",
       "</style>\n",
       "<table border=\"1\" class=\"dataframe\">\n",
       "  <thead>\n",
       "    <tr style=\"text-align: right;\">\n",
       "      <th></th>\n",
       "      <th>id</th>\n",
       "      <th>mode</th>\n",
       "      <th>time.car</th>\n",
       "      <th>cost.car</th>\n",
       "      <th>time.bus</th>\n",
       "      <th>cost.bus</th>\n",
       "      <th>price_gas</th>\n",
       "      <th>snowfall</th>\n",
       "      <th>construction</th>\n",
       "      <th>bus_detour</th>\n",
       "      <th>age</th>\n",
       "      <th>income</th>\n",
       "      <th>marital_status</th>\n",
       "    </tr>\n",
       "  </thead>\n",
       "  <tbody>\n",
       "    <tr>\n",
       "      <th>0</th>\n",
       "      <td>1</td>\n",
       "      <td>car</td>\n",
       "      <td>13</td>\n",
       "      <td>0.79</td>\n",
       "      <td>26</td>\n",
       "      <td>0</td>\n",
       "      <td>2.44</td>\n",
       "      <td>0.0</td>\n",
       "      <td>0</td>\n",
       "      <td>1</td>\n",
       "      <td>33</td>\n",
       "      <td>28</td>\n",
       "      <td>married</td>\n",
       "    </tr>\n",
       "    <tr>\n",
       "      <th>1</th>\n",
       "      <td>2</td>\n",
       "      <td>car</td>\n",
       "      <td>9</td>\n",
       "      <td>0.59</td>\n",
       "      <td>14</td>\n",
       "      <td>0</td>\n",
       "      <td>2.59</td>\n",
       "      <td>0.0</td>\n",
       "      <td>0</td>\n",
       "      <td>0</td>\n",
       "      <td>25</td>\n",
       "      <td>28</td>\n",
       "      <td>single</td>\n",
       "    </tr>\n",
       "    <tr>\n",
       "      <th>2</th>\n",
       "      <td>3</td>\n",
       "      <td>bus</td>\n",
       "      <td>20</td>\n",
       "      <td>1.62</td>\n",
       "      <td>35</td>\n",
       "      <td>0</td>\n",
       "      <td>2.55</td>\n",
       "      <td>1.0</td>\n",
       "      <td>0</td>\n",
       "      <td>0</td>\n",
       "      <td>27</td>\n",
       "      <td>23</td>\n",
       "      <td>single</td>\n",
       "    </tr>\n",
       "    <tr>\n",
       "      <th>3</th>\n",
       "      <td>4</td>\n",
       "      <td>bus</td>\n",
       "      <td>11</td>\n",
       "      <td>0.30</td>\n",
       "      <td>11</td>\n",
       "      <td>0</td>\n",
       "      <td>2.53</td>\n",
       "      <td>2.2</td>\n",
       "      <td>0</td>\n",
       "      <td>0</td>\n",
       "      <td>25</td>\n",
       "      <td>21</td>\n",
       "      <td>single</td>\n",
       "    </tr>\n",
       "  </tbody>\n",
       "</table>\n",
       "</div>"
      ],
      "text/plain": [
       "   id mode  time.car  cost.car  time.bus  cost.bus  price_gas  snowfall  \\\n",
       "0   1  car        13      0.79        26         0       2.44       0.0   \n",
       "1   2  car         9      0.59        14         0       2.59       0.0   \n",
       "2   3  bus        20      1.62        35         0       2.55       1.0   \n",
       "3   4  bus        11      0.30        11         0       2.53       2.2   \n",
       "\n",
       "   construction  bus_detour  age  income marital_status  \n",
       "0             0           1   33      28        married  \n",
       "1             0           0   25      28         single  \n",
       "2             0           0   27      23         single  \n",
       "3             0           0   25      21         single  "
      ]
     },
     "execution_count": 6,
     "metadata": {},
     "output_type": "execute_result"
    }
   ],
   "source": [
    "df.head(4)"
   ]
  },
  {
   "cell_type": "markdown",
   "metadata": {},
   "source": [
    "# Problem 1: Summary Statistics"
   ]
  },
  {
   "cell_type": "markdown",
   "metadata": {},
   "source": [
    "### Full summary stat"
   ]
  },
  {
   "cell_type": "code",
   "execution_count": 7,
   "metadata": {},
   "outputs": [
    {
     "name": "stdout",
     "output_type": "stream",
     "text": [
      "       time.car  cost.car  time.bus  cost.bus\n",
      "count   1000.00   1000.00   1000.00    1000.0\n",
      "mean      10.95      0.41     14.16       0.0\n",
      "std        3.00      0.21      4.47       0.0\n",
      "min        5.00      0.16      7.00       0.0\n",
      "25%        9.00      0.26     11.00       0.0\n",
      "50%       10.00      0.35     13.00       0.0\n",
      "75%       13.00      0.50     16.00       0.0\n",
      "max       28.00      1.62     39.00       0.0\n"
     ]
    }
   ],
   "source": [
    "summary = df[['time.car', 'cost.car', 'time.bus', 'cost.bus']].describe()\n",
    "print(summary.round(2))"
   ]
  },
  {
   "cell_type": "markdown",
   "metadata": {},
   "source": [
    "### Long right tail of the variables"
   ]
  },
  {
   "cell_type": "code",
   "execution_count": 6,
   "metadata": {},
   "outputs": [
    {
     "data": {
      "image/png": "[encoded data removed]",
      "text/plain": [
       "<Figure size 640x480 with 1 Axes>"
      ]
     },
     "metadata": {},
     "output_type": "display_data"
    }
   ],
   "source": [
    "import matplotlib.pyplot as plt\n",
    "\n",
    "df['time.car'].hist(bins=20)\n",
    "\n",
    "# add labels and title\n",
    "plt.xlabel('time car')\n",
    "plt.ylabel('Frequency')\n",
    "plt.title('Distribution of time car')\n",
    "plt.show()"
   ]
  },
  {
   "cell_type": "markdown",
   "metadata": {},
   "source": [
    "### Summary stat by mode of commute"
   ]
  },
  {
   "cell_type": "code",
   "execution_count": 7,
   "metadata": {},
   "outputs": [
    {
     "data": {
      "text/html": [
       "<div>\n",
       "<style scoped>\n",
       "    .dataframe tbody tr th:only-of-type {\n",
       "        vertical-align: middle;\n",
       "    }\n",
       "\n",
       "    .dataframe tbody tr th {\n",
       "        vertical-align: top;\n",
       "    }\n",
       "\n",
       "    .dataframe thead th {\n",
       "        text-align: right;\n",
       "    }\n",
       "</style>\n",
       "<table border=\"1\" class=\"dataframe\">\n",
       "  <thead>\n",
       "    <tr style=\"text-align: right;\">\n",
       "      <th></th>\n",
       "      <th>time_car_mean</th>\n",
       "      <th>time_car_median</th>\n",
       "      <th>cost_car_mean</th>\n",
       "      <th>cost_car_median</th>\n",
       "      <th>time_bus_mean</th>\n",
       "      <th>time_bus_median</th>\n",
       "    </tr>\n",
       "    <tr>\n",
       "      <th>mode</th>\n",
       "      <th></th>\n",
       "      <th></th>\n",
       "      <th></th>\n",
       "      <th></th>\n",
       "      <th></th>\n",
       "      <th></th>\n",
       "    </tr>\n",
       "  </thead>\n",
       "  <tbody>\n",
       "    <tr>\n",
       "      <th>bus</th>\n",
       "      <td>11.88</td>\n",
       "      <td>11.0</td>\n",
       "      <td>0.45</td>\n",
       "      <td>0.38</td>\n",
       "      <td>14.69</td>\n",
       "      <td>13.0</td>\n",
       "    </tr>\n",
       "    <tr>\n",
       "      <th>car</th>\n",
       "      <td>9.70</td>\n",
       "      <td>9.0</td>\n",
       "      <td>0.36</td>\n",
       "      <td>0.32</td>\n",
       "      <td>13.47</td>\n",
       "      <td>13.0</td>\n",
       "    </tr>\n",
       "  </tbody>\n",
       "</table>\n",
       "</div>"
      ],
      "text/plain": [
       "      time_car_mean  time_car_median  cost_car_mean  cost_car_median  \\\n",
       "mode                                                                   \n",
       "bus           11.88             11.0           0.45             0.38   \n",
       "car            9.70              9.0           0.36             0.32   \n",
       "\n",
       "      time_bus_mean  time_bus_median  \n",
       "mode                                  \n",
       "bus           14.69             13.0  \n",
       "car           13.47             13.0  "
      ]
     },
     "execution_count": 7,
     "metadata": {},
     "output_type": "execute_result"
    }
   ],
   "source": [
    "new_df = df.groupby('mode').agg(\n",
    "    time_car_mean=('time.car', 'mean'),\n",
    "    time_car_median=('time.car', 'median'),\n",
    "    cost_car_mean=('cost.car', 'mean'),\n",
    "     cost_car_median=('cost.car', 'median'),\n",
    "    time_bus_mean=('time.bus', 'mean'),\n",
    "    time_bus_median=('time.bus', 'median')\n",
    ")\n",
    "new_df.round(2)"
   ]
  },
  {
   "cell_type": "markdown",
   "metadata": {},
   "source": [
    "# Problem 2: Linear Probability Model"
   ]
  },
  {
   "cell_type": "markdown",
   "metadata": {},
   "source": [
    "The model is as follows:\n",
    "$$\n",
    "Y_n=\\beta_0+\\beta_1 C_{n c}+\\beta_2 T_{n c}+\\beta_3 T_{n b}+\\varepsilon_n\n",
    "$$"
   ]
  },
  {
   "cell_type": "code",
   "execution_count": 8,
   "metadata": {},
   "outputs": [],
   "source": [
    "df['output'] = df['mode'].map({'car': 1, 'bus': 0})"
   ]
  },
  {
   "cell_type": "code",
   "execution_count": 18,
   "metadata": {},
   "outputs": [
    {
     "name": "stdout",
     "output_type": "stream",
     "text": [
      "                            OLS Regression Results                            \n",
      "==============================================================================\n",
      "Dep. Variable:                 output   R-squared:                       0.146\n",
      "Model:                            OLS   Adj. R-squared:                  0.144\n",
      "Method:                 Least Squares   F-statistic:                     64.46\n",
      "Date:                Wed, 24 Jul 2024   Prob (F-statistic):           4.27e-38\n",
      "Time:                        18:05:31   Log-Likelihood:                -636.12\n",
      "No. Observations:                1000   AIC:                             1280.\n",
      "Df Residuals:                     996   BIC:                             1300.\n",
      "Df Model:                           3                                         \n",
      "Covariance Type:                  HC1                                         \n",
      "==============================================================================\n",
      "                 coef    std err          t      P>|t|      [0.025      0.975]\n",
      "------------------------------------------------------------------------------\n",
      "const          0.9205      0.073     12.627      0.000       0.777       1.064\n",
      "cost.car      -0.4376      0.139     -3.158      0.002      -0.709      -0.166\n",
      "time.car      -0.0653      0.006    -11.190      0.000      -0.077      -0.054\n",
      "time.bus       0.0284      0.007      4.348      0.000       0.016       0.041\n",
      "==============================================================================\n",
      "Omnibus:                    14100.686   Durbin-Watson:                   1.907\n",
      "Prob(Omnibus):                  0.000   Jarque-Bera (JB):               87.254\n",
      "Skew:                           0.184   Prob(JB):                     1.13e-19\n",
      "Kurtosis:                       1.600   Cond. No.                         193.\n",
      "==============================================================================\n",
      "\n",
      "Notes:\n",
      "[1] Standard Errors are heteroscedasticity robust (HC1)\n"
     ]
    }
   ],
   "source": [
    "import statsmodels.api as sm\n",
    "\n",
    "# Define the independent variables\n",
    "X = df[['cost.car', 'time.car', 'time.bus']]\n",
    "\n",
    "# Add a constant term to the independent variables\n",
    "X = sm.add_constant(X)\n",
    "\n",
    "# Define the dependent variable\n",
    "y = df['output']\n",
    "\n",
    "# Fit the linear regression model\n",
    "model = sm.OLS(y, X).fit()\n",
    "\n",
    "# Print the summary of the regression results\n",
    "print(model.get_robustcov_results().summary())"
   ]
  },
  {
   "cell_type": "code",
   "execution_count": 19,
   "metadata": {},
   "outputs": [
    {
     "name": "stdout",
     "output_type": "stream",
     "text": [
      "22\n"
     ]
    }
   ],
   "source": [
    "df['predict_LPM'] = model.predict(X)\n",
    "count = df[(df['predict_LPM'] > 1) | (df['predict_LPM'] < 0)].shape[0]\n",
    "print(count)"
   ]
  },
  {
   "cell_type": "code",
   "execution_count": 21,
   "metadata": {},
   "outputs": [
    {
     "data": {
      "image/png": "[encoded data removed]",
      "text/plain": [
       "<Figure size 640x480 with 1 Axes>"
      ]
     },
     "metadata": {},
     "output_type": "display_data"
    }
   ],
   "source": [
    "df_sorted = df.sort_values(by='predict_LPM').reset_index(drop=True)\n",
    "\n",
    "# Generate a counter for the x-axis\n",
    "df_sorted['counter'] = df_sorted.index + 1\n",
    "\n",
    "# Plot the sorted data\n",
    "plt.plot(df_sorted['counter'], df_sorted['predict_LPM'], marker='o')\n",
    "plt.xlabel('Counter')\n",
    "plt.ylabel('Predicted Output')\n",
    "plt.title('Sorted Predicted Output')\n",
    "plt.grid(True)\n",
    "plt.show()"
   ]
  },
  {
   "cell_type": "markdown",
   "metadata": {},
   "source": [
    "So, for 22 students, the prediction of the model for the probability of riding a car is not relevant. It is indeed not a large number."
   ]
  },
  {
   "cell_type": "code",
   "execution_count": 17,
   "metadata": {},
   "outputs": [
    {
     "name": "stdout",
     "output_type": "stream",
     "text": [
      "T-statistic: 4.1396\n",
      "P-value: 0.0000\n"
     ]
    }
   ],
   "source": [
    "import numpy as np\n",
    "from scipy.stats import t\n",
    "\n",
    "# Get the coefficients from the model\n",
    "coefficients = model.params\n",
    "\n",
    "# Extract the coefficients for time.car and time.bus\n",
    "time_car_coefficient = coefficients['time.car']\n",
    "time_bus_coefficient = coefficients['time.bus']\n",
    "\n",
    "# Calculate the absolute difference between the coefficients\n",
    "absolute_difference = np.abs(time_car_coefficient) - np.abs(time_bus_coefficient)\n",
    "\n",
    "# Calculate the standard error of the difference\n",
    "standard_error = np.sqrt(model.cov_params().loc['time.car', 'time.car']\n",
    "                         + model.cov_params().loc['time.bus', 'time.bus'])\n",
    "\n",
    "# Calculate the t-statistic\n",
    "t_statistic = absolute_difference / standard_error\n",
    "\n",
    "# Calculate the degrees of freedom\n",
    "degrees_of_freedom = len(df) - len(coefficients)\n",
    "\n",
    "# Calculate the p-value\n",
    "p_value = 2 * (1 - t.cdf(np.abs(t_statistic), degrees_of_freedom))\n",
    "\n",
    "# Print the results\n",
    "print(f'T-statistic: {t_statistic:.4f}')\n",
    "print(f'P-value: {p_value:.4f}')"
   ]
  },
  {
   "cell_type": "markdown",
   "metadata": {},
   "source": [
    "So the coefficients of timecar and timebus in absoulute terms are different significantly."
   ]
  },
  {
   "cell_type": "markdown",
   "metadata": {},
   "source": [
    "## A more detailed model\n",
    "\n",
    "The model is as follows:\n",
    "$$\n",
    "Y_n=\\beta_0+\\beta_1 C_{n c}+\\beta_2 T_{n c}+\\beta_3 T_{n b}+\n",
    "\\beta_4 Age_{n} + \\beta_{5} Income_{n} + \\beta_{6}\n",
    "Marital_{n} + \\varepsilon_n\n",
    "$$"
   ]
  },
  {
   "cell_type": "code",
   "execution_count": 12,
   "metadata": {},
   "outputs": [],
   "source": [
    "df['Marital'] = df['marital_status'].map({'married': 1, 'single': 0})"
   ]
  },
  {
   "cell_type": "code",
   "execution_count": 22,
   "metadata": {},
   "outputs": [
    {
     "name": "stdout",
     "output_type": "stream",
     "text": [
      "                            OLS Regression Results                            \n",
      "==============================================================================\n",
      "Dep. Variable:                 output   R-squared:                       0.160\n",
      "Model:                            OLS   Adj. R-squared:                  0.156\n",
      "Method:                 Least Squares   F-statistic:                     46.29\n",
      "Date:                Wed, 24 Jul 2024   Prob (F-statistic):           4.58e-43\n",
      "Time:                        18:06:01   Log-Likelihood:                -628.00\n",
      "No. Observations:                1000   AIC:                             1268.\n",
      "Df Residuals:                     994   BIC:                             1297.\n",
      "Df Model:                           5                                         \n",
      "Covariance Type:                  HC1                                         \n",
      "==============================================================================\n",
      "                 coef    std err          t      P>|t|      [0.025      0.975]\n",
      "------------------------------------------------------------------------------\n",
      "const          0.7081      0.115      6.171      0.000       0.483       0.933\n",
      "cost.car      -0.4439      0.139     -3.203      0.001      -0.716      -0.172\n",
      "time.car      -0.0662      0.006    -11.477      0.000      -0.077      -0.055\n",
      "time.bus       0.0289      0.007      4.402      0.000       0.016       0.042\n",
      "income         0.0100      0.004      2.738      0.006       0.003       0.017\n",
      "Marital       -0.0889      0.029     -3.061      0.002      -0.146      -0.032\n",
      "==============================================================================\n",
      "Omnibus:                    22435.947   Durbin-Watson:                   1.890\n",
      "Prob(Omnibus):                  0.000   Jarque-Bera (JB):               83.462\n",
      "Skew:                           0.157   Prob(JB):                     7.52e-19\n",
      "Kurtosis:                       1.620   Cond. No.                         326.\n",
      "==============================================================================\n",
      "\n",
      "Notes:\n",
      "[1] Standard Errors are heteroscedasticity robust (HC1)\n"
     ]
    }
   ],
   "source": [
    "# Define the independent variables\n",
    "X = df[['cost.car', 'time.car', 'time.bus', 'income',\n",
    "       'Marital']]\n",
    "\n",
    "# Add a constant term to the independent variables\n",
    "X = sm.add_constant(X)\n",
    "\n",
    "# Define the dependent variable\n",
    "y = df['output']\n",
    "\n",
    "# Fit the linear regression model\n",
    "model = sm.OLS(y, X).fit()\n",
    "\n",
    "# Print the summary of the regression results\n",
    "print(model.get_robustcov_results().summary())"
   ]
  },
  {
   "cell_type": "code",
   "execution_count": 23,
   "metadata": {},
   "outputs": [
    {
     "name": "stdout",
     "output_type": "stream",
     "text": [
      "          cost.car  time.car  time.bus    income   Marital\n",
      "cost.car  1.000000  0.616969  0.869822 -0.011682 -0.031008\n",
      "time.car  0.616969  1.000000  0.581246  0.039668 -0.012954\n",
      "time.bus  0.869822  0.581246  1.000000 -0.001899 -0.008198\n",
      "income   -0.011682  0.039668 -0.001899  1.000000  0.012660\n",
      "Marital  -0.031008 -0.012954 -0.008198  0.012660  1.000000\n"
     ]
    }
   ],
   "source": [
    "correlation_matrix = X[['cost.car', 'time.car', 'time.bus', 'income', 'Marital']].corr()\n",
    "print(correlation_matrix)"
   ]
  },
  {
   "cell_type": "code",
   "execution_count": 24,
   "metadata": {},
   "outputs": [
    {
     "name": "stdout",
     "output_type": "stream",
     "text": [
      "27\n"
     ]
    }
   ],
   "source": [
    "df['predict_LPM'] = model.predict(X)\n",
    "count = df[(df['predict_LPM'] > 1) | (df['predict_LPM'] < 0)].shape[0]\n",
    "print(count)"
   ]
  },
  {
   "cell_type": "code",
   "execution_count": 25,
   "metadata": {},
   "outputs": [
    {
     "data": {
      "image/png": "[encoded data removed]",
      "text/plain": [
       "<Figure size 640x480 with 1 Axes>"
      ]
     },
     "metadata": {},
     "output_type": "display_data"
    }
   ],
   "source": [
    "df_sorted = df.sort_values(by='predict_LPM').reset_index(drop=True)\n",
    "\n",
    "# Generate a counter for the x-axis\n",
    "df_sorted['counter'] = df_sorted.index + 1\n",
    "\n",
    "# Plot the sorted data\n",
    "plt.plot(df_sorted['counter'], df_sorted['predict_LPM'], marker='o')\n",
    "plt.xlabel('Counter')\n",
    "plt.ylabel('Predicted Output')\n",
    "plt.title('Sorted Predicted Output')\n",
    "plt.grid(True)\n",
    "plt.show()"
   ]
  }
 ],
 "metadata": {
  "kernelspec": {
   "display_name": "Python 3",
   "language": "python",
   "name": "python3"
  },
  "language_info": {
   "codemirror_mode": {
    "name": "ipython",
    "version": 3
   },
   "file_extension": ".py",
   "mimetype": "text/x-python",
   "name": "python",
   "nbconvert_exporter": "python",
   "pygments_lexer": "ipython3",
   "version": "3.11.9"
  }
 },
 "nbformat": 4,
 "nbformat_minor": 2
}
