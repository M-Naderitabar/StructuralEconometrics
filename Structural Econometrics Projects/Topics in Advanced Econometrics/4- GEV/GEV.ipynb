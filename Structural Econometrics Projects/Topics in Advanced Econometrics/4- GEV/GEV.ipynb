{
 "cells": [
  {
   "cell_type": "code",
   "execution_count": 11,
   "metadata": {},
   "outputs": [],
   "source": [
    "import numpy as np\n",
    "import matplotlib.pyplot as plt\n",
    "import pandas as pd\n",
    "from scipy.optimize import minimize\n",
    "from scipy.stats import norm\n",
    "from scipy.stats import chi2\n",
    "import statsmodels.api as sm\n",
    "from scipy.special import expit\n",
    "np.set_printoptions(suppress=True)"
   ]
  },
  {
   "cell_type": "code",
   "execution_count": 12,
   "metadata": {},
   "outputs": [],
   "source": [
    "address = 'C:/Users/moham/My Drive/Projects/Structural Econometrics Projects/Topics in Advanced Econometrics/4- GEV'\n",
    "camping = pd.read_csv(address + '/camping.csv')\n",
    "camping.rename(columns={'camper_id': 'id'}, inplace=True)"
   ]
  },
  {
   "cell_type": "markdown",
   "metadata": {},
   "source": [
    "# Problem 1: Generalized Extreme Value Models"
   ]
  },
  {
   "cell_type": "markdown",
   "metadata": {},
   "source": [
    "The data here is for camping choices. It is an individual level data. Each individual has 5 alternatives of parks to camp in. We have the choice of each individual in column visit. The data is in the long format. For each park, we have two attributes of time and cost. Also, we have two categories of parks. One, beach parks and the other is mountain parks. "
   ]
  },
  {
   "cell_type": "code",
   "execution_count": 3,
   "metadata": {},
   "outputs": [
    {
     "data": {
      "text/html": [
       "<div>\n",
       "<style scoped>\n",
       "    .dataframe tbody tr th:only-of-type {\n",
       "        vertical-align: middle;\n",
       "    }\n",
       "\n",
       "    .dataframe tbody tr th {\n",
       "        vertical-align: top;\n",
       "    }\n",
       "\n",
       "    .dataframe thead th {\n",
       "        text-align: right;\n",
       "    }\n",
       "</style>\n",
       "<table border=\"1\" class=\"dataframe\">\n",
       "  <thead>\n",
       "    <tr style=\"text-align: right;\">\n",
       "      <th></th>\n",
       "      <th>id</th>\n",
       "      <th>park_id</th>\n",
       "      <th>park</th>\n",
       "      <th>visit</th>\n",
       "      <th>mountain</th>\n",
       "      <th>beach</th>\n",
       "      <th>cost</th>\n",
       "      <th>time</th>\n",
       "    </tr>\n",
       "  </thead>\n",
       "  <tbody>\n",
       "    <tr>\n",
       "      <th>0</th>\n",
       "      <td>1</td>\n",
       "      <td>1</td>\n",
       "      <td>Mount Greylock</td>\n",
       "      <td>0</td>\n",
       "      <td>1</td>\n",
       "      <td>0</td>\n",
       "      <td>53.125051</td>\n",
       "      <td>204.096987</td>\n",
       "    </tr>\n",
       "    <tr>\n",
       "      <th>1</th>\n",
       "      <td>1</td>\n",
       "      <td>2</td>\n",
       "      <td>October Mountain</td>\n",
       "      <td>1</td>\n",
       "      <td>1</td>\n",
       "      <td>0</td>\n",
       "      <td>72.147801</td>\n",
       "      <td>262.922037</td>\n",
       "    </tr>\n",
       "    <tr>\n",
       "      <th>2</th>\n",
       "      <td>1</td>\n",
       "      <td>3</td>\n",
       "      <td>Horseneck Beach</td>\n",
       "      <td>0</td>\n",
       "      <td>0</td>\n",
       "      <td>1</td>\n",
       "      <td>97.150615</td>\n",
       "      <td>212.117346</td>\n",
       "    </tr>\n",
       "    <tr>\n",
       "      <th>3</th>\n",
       "      <td>1</td>\n",
       "      <td>4</td>\n",
       "      <td>Salisbury Beach</td>\n",
       "      <td>0</td>\n",
       "      <td>0</td>\n",
       "      <td>1</td>\n",
       "      <td>108.296025</td>\n",
       "      <td>181.254675</td>\n",
       "    </tr>\n",
       "    <tr>\n",
       "      <th>4</th>\n",
       "      <td>1</td>\n",
       "      <td>5</td>\n",
       "      <td>Scusset Beach</td>\n",
       "      <td>0</td>\n",
       "      <td>0</td>\n",
       "      <td>1</td>\n",
       "      <td>107.127049</td>\n",
       "      <td>151.808650</td>\n",
       "    </tr>\n",
       "  </tbody>\n",
       "</table>\n",
       "</div>"
      ],
      "text/plain": [
       "   id  park_id              park  visit  mountain  beach        cost  \\\n",
       "0   1        1    Mount Greylock      0         1      0   53.125051   \n",
       "1   1        2  October Mountain      1         1      0   72.147801   \n",
       "2   1        3   Horseneck Beach      0         0      1   97.150615   \n",
       "3   1        4   Salisbury Beach      0         0      1  108.296025   \n",
       "4   1        5     Scusset Beach      0         0      1  107.127049   \n",
       "\n",
       "         time  \n",
       "0  204.096987  \n",
       "1  262.922037  \n",
       "2  212.117346  \n",
       "3  181.254675  \n",
       "4  151.808650  "
      ]
     },
     "execution_count": 3,
     "metadata": {},
     "output_type": "execute_result"
    }
   ],
   "source": [
    "camping.head(5)"
   ]
  },
  {
   "cell_type": "markdown",
   "metadata": {},
   "source": [
    "## a. Multinomial Logit model\n",
    "\n",
    "Suppose the choice model is as follows:\n",
    "\n",
    "$$\n",
    "V_{nj} = \\beta_1 C_{nj} + \\beta_2 T_{nj} + \\beta_3 M_j\n",
    "$$\n",
    "\n",
    "$M_j$ is a binary indicator of being in the mountain or not.\n",
    "Here, we will use MLE to estimate the parameters. I will use the code from previous projects."
   ]
  },
  {
   "cell_type": "code",
   "execution_count": 4,
   "metadata": {},
   "outputs": [],
   "source": [
    "def loglikelihood(params, data):\n",
    "    # Create a copy of the input DataFrame to avoid modifying the original one\n",
    "    df = data.copy()\n",
    "    # Independent variables as a NumPy array\n",
    "    X = df[['cost', 'time', 'mountain']]\n",
    "    # Calculating the exponential utility\n",
    "    df['exp_Util'] = np.exp(np.dot(X, params))\n",
    "    # Summing exp_Util for each id\n",
    "    df['sum_exp_Util'] = df.groupby('id')['exp_Util'].transform('sum')\n",
    "    # Probability calculation\n",
    "    df['prob'] = df['exp_Util'] / df['sum_exp_Util']\n",
    "    # Calculating the log-likelihood\n",
    "    loglikelihood_value = np.sum(df['visit'] * np.log(df['prob']))\n",
    "    # Return negative log-likelihood (for minimization)\n",
    "    return -loglikelihood_value"
   ]
  },
  {
   "cell_type": "code",
   "execution_count": null,
   "metadata": {},
   "outputs": [],
   "source": [
    "initial_params = np.zeros(3)\n",
    "result = minimize(loglikelihood, \n",
    "                  initial_params, \n",
    "                  args=(camping[['id', 'visit', 'time', 'cost', 'mountain']],), \n",
    "                  method='BFGS', \n",
    "                  options={'disp': False})\n",
    "parameters = result.x"
   ]
  },
  {
   "cell_type": "code",
   "execution_count": 6,
   "metadata": {},
   "outputs": [
    {
     "data": {
      "text/plain": [
       "array([-0.01478385, -0.00163202, -0.33104973])"
      ]
     },
     "execution_count": 6,
     "metadata": {},
     "output_type": "execute_result"
    }
   ],
   "source": [
    "parameters"
   ]
  },
  {
   "cell_type": "code",
   "execution_count": 7,
   "metadata": {},
   "outputs": [
    {
     "name": "stdout",
     "output_type": "stream",
     "text": [
      "Parameter  Coefficient  Standard Error  Z-statistic  P-value\n",
      "     Cost       -0.015           0.004       -3.914    0.000\n",
      "     time       -0.002           0.000       -3.929    0.000\n",
      " Mountain       -0.331           0.180       -1.839    0.066\n"
     ]
    }
   ],
   "source": [
    "std = np.sqrt(result.hess_inv.diagonal())\n",
    "z_stat = parameters / std\n",
    "p_values = 2 * (1 - norm.cdf(abs(z_stat)))\n",
    "summary_table = pd.DataFrame({\n",
    "    'Parameter': ['Cost', 'time', 'Mountain'],\n",
    "    'Coefficient': parameters,\n",
    "    'Standard Error': std,\n",
    "    'Z-statistic': z_stat,\n",
    "    'P-value': p_values\n",
    "})\n",
    "print(summary_table.round(3).to_string(index=False))"
   ]
  },
  {
   "cell_type": "markdown",
   "metadata": {},
   "source": [
    "The campers in our dataset obtain less utility, ceteris paribus, from camping in the mountains than from camping at the beach. Also, as expected, the marginal utilities of both cost and time are negative."
   ]
  },
  {
   "cell_type": "markdown",
   "metadata": {},
   "source": [
    "### Dollor value of time and mountains"
   ]
  },
  {
   "cell_type": "code",
   "execution_count": 8,
   "metadata": {},
   "outputs": [
    {
     "name": "stdout",
     "output_type": "stream",
     "text": [
      "Value of Time: 6.624 $\n",
      "Value of Mountain: 22.393 $\n"
     ]
    }
   ],
   "source": [
    "dollor_value = parameters[0]\n",
    "value_time = parameters[1]/parameters[0] * 60\n",
    "value_mountain = parameters[2]/parameters[0]\n",
    "print('Value of Time:', value_time.round(3), '$')\n",
    "print('Value of Mountain:', value_mountain.round(3), '$')"
   ]
  },
  {
   "cell_type": "markdown",
   "metadata": {},
   "source": [
    "So, campers value going to the mountain 22 dollor less than going to a beach."
   ]
  },
  {
   "cell_type": "markdown",
   "metadata": {},
   "source": [
    "### Caveat of this model\n",
    "\n",
    "Notice that, when using simple logit, we assume that, for each individual, the error terms of all alternatives are i.i.d. Therefore, we are ruling out any correlations of this errors. Then, what if agents have individual preference for the mountains or the beach, which would create correlations among parks with the same setting. In other words, as some alternatives are inherently more substitutable, the assumption of logit might be problematic. That is why we can switch to nested logit for better results."
   ]
  },
  {
   "cell_type": "markdown",
   "metadata": {},
   "source": [
    "## b. Nested Logit model"
   ]
  },
  {
   "cell_type": "markdown",
   "metadata": {},
   "source": [
    "Again, the model is as follows:\n",
    "$$\n",
    "V_{nj} = \\beta_1 C_{nj} + \\beta_2 T_{nj} + \\beta_3 M_j\n",
    "$$\n",
    "\n",
    "We remember that, in the nested logit model, the choice probabilities are as follows (for the case of only two nests as here):\n",
    "\n",
    "$$\n",
    "P_{ni}=\\frac{e^{V_{ni}/\\lambda_m}\\left(\\sum_{j\\in B_m}e^{V_{nj}/\\lambda_m}\\right)^{\\lambda_m-1}}{\\left(\\sum_{j\\in B_b}e^{V_{nj}/\\lambda_b}\\right)^{\\lambda_b} + \\left(\\sum_{j\\in B_m}e^{V_{nj}/\\lambda_m}\\right)^{\\lambda_m}}\n",
    "$$\n",
    "\n",
    "Here, we have two nests $m,b$, and in the above equation, we suppose that alternative $i$ is in nest $m$. Using this idea, we can see that the parameter space is:\n",
    "$$\n",
    "\\theta = \\left(\\beta_1,\\beta_2,\\beta_3, \\lambda_{b}, \\lambda{m}\\right)\n",
    "$$"
   ]
  },
  {
   "cell_type": "markdown",
   "metadata": {},
   "source": [
    "Therefore, we can again use MLE to solve for the parameters."
   ]
  },
  {
   "cell_type": "code",
   "execution_count": null,
   "metadata": {},
   "outputs": [],
   "source": [
    "def loglikelihood_nested(params, data):\n",
    "    # Create a copy of the input DataFrame to avoid modifying the original one\n",
    "    df = data.copy()\n",
    "    params_util = params[:3]\n",
    "    params_nest = params[3:]\n",
    "    X = df[['cost', 'time', 'mountain']]\n",
    "    \n",
    "    df['Util_no_nest'] = np.dot(X, params_util)\n",
    "    df['exp_Util_nest'] = np.exp(np.where(df['mountain'] == 0,\n",
    "                                   df['Util_no_nest']/params_nest[0],\n",
    "                                   df['Util_no_nest']/params_nest[1]))\n",
    "    df['sum_exp_Util'] = df.groupby('id', 'mountain')['exp_Util_nest'].transform('sum')\n",
    "    \n",
    "    # df['sum_exp_Util'] = df.groupby('id')['exp_Util'].transform('sum')\n",
    "    # df['prob'] = df['exp_Util_nest'] / df['sum_exp_Util']\n",
    "    # df['prob'] = df['exp_Util'] / df['sum_exp_Util']\n",
    "    # loglikelihood_value = np.sum(df['visit'] * np.log(df['prob']))\n",
    "    return -loglikelihood_value"
   ]
  },
  {
   "cell_type": "code",
   "execution_count": 23,
   "metadata": {},
   "outputs": [],
   "source": [
    "params = np.random.rand(5)"
   ]
  },
  {
   "cell_type": "code",
   "execution_count": null,
   "metadata": {},
   "outputs": [],
   "source": [
    "X = camping[['cost', 'time', 'mountain']]\n",
    "camping['Util_no_nest'] = np.dot(X, params[:3])\n",
    "camping['Util_no_nest'] = np.clip(camping['Util_no_nest'], -100, 100)\n",
    "camping['exp_Util_nest'] = np.exp(np.where(camping['mountain'] == 0,\n",
    "                                      camping['Util_no_nest']/params[3],\n",
    "                                      camping['Util_no_nest']/params[4]))\n",
    "camping['sum_exp_Util'] = camping.groupby('id', 'mountain')['exp_Util_nest'].transform('sum')"
   ]
  },
  {
   "cell_type": "code",
   "execution_count": null,
   "metadata": {},
   "outputs": [],
   "source": []
  }
 ],
 "metadata": {
  "kernelspec": {
   "display_name": "Python 3",
   "language": "python",
   "name": "python3"
  },
  "language_info": {
   "codemirror_mode": {
    "name": "ipython",
    "version": 3
   },
   "file_extension": ".py",
   "mimetype": "text/x-python",
   "name": "python",
   "nbconvert_exporter": "python",
   "pygments_lexer": "ipython3",
   "version": "3.11.9"
  }
 },
 "nbformat": 4,
 "nbformat_minor": 2
}
